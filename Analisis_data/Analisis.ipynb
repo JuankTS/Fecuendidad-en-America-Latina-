{
 "cells": [
  {
   "cell_type": "markdown",
   "metadata": {},
   "source": [
    "#### Este Notebook esta dedicado al analisis de los datos extraidos del banco mundial sobre las tasas de fecundidad."
   ]
  },
  {
   "cell_type": "code",
   "execution_count": 1,
   "metadata": {},
   "outputs": [],
   "source": [
    "# Importamos las librerias necesarias para el analisis \n",
    "import pandas as pd\n",
    "import matplotlib.pyplot as plt \n",
    "import seaborn as sns\n",
    "import plotly.express as px"
   ]
  },
  {
   "cell_type": "code",
   "execution_count": 2,
   "metadata": {},
   "outputs": [
    {
     "data": {
      "text/html": [
       "<div>\n",
       "<style scoped>\n",
       "    .dataframe tbody tr th:only-of-type {\n",
       "        vertical-align: middle;\n",
       "    }\n",
       "\n",
       "    .dataframe tbody tr th {\n",
       "        vertical-align: top;\n",
       "    }\n",
       "\n",
       "    .dataframe thead th {\n",
       "        text-align: right;\n",
       "    }\n",
       "</style>\n",
       "<table border=\"1\" class=\"dataframe\">\n",
       "  <thead>\n",
       "    <tr style=\"text-align: right;\">\n",
       "      <th></th>\n",
       "      <th>Country Name</th>\n",
       "      <th>Country Code</th>\n",
       "      <th>Indicator Name</th>\n",
       "      <th>Indicator Code</th>\n",
       "      <th>1960</th>\n",
       "      <th>1961</th>\n",
       "      <th>1962</th>\n",
       "      <th>1963</th>\n",
       "      <th>1964</th>\n",
       "      <th>1965</th>\n",
       "      <th>...</th>\n",
       "      <th>2015</th>\n",
       "      <th>2016</th>\n",
       "      <th>2017</th>\n",
       "      <th>2018</th>\n",
       "      <th>2019</th>\n",
       "      <th>2020</th>\n",
       "      <th>2021</th>\n",
       "      <th>2022</th>\n",
       "      <th>2023</th>\n",
       "      <th>Unnamed: 68</th>\n",
       "    </tr>\n",
       "  </thead>\n",
       "  <tbody>\n",
       "    <tr>\n",
       "      <th>0</th>\n",
       "      <td>Aruba</td>\n",
       "      <td>ABW</td>\n",
       "      <td>Fertility rate, total (births per woman)</td>\n",
       "      <td>SP.DYN.TFRT.IN</td>\n",
       "      <td>4.820000</td>\n",
       "      <td>4.655000</td>\n",
       "      <td>4.471000</td>\n",
       "      <td>4.271000</td>\n",
       "      <td>4.059000</td>\n",
       "      <td>3.842000</td>\n",
       "      <td>...</td>\n",
       "      <td>1.972000</td>\n",
       "      <td>1.953000</td>\n",
       "      <td>1.839000</td>\n",
       "      <td>1.587000</td>\n",
       "      <td>1.486000</td>\n",
       "      <td>1.325000</td>\n",
       "      <td>1.180000</td>\n",
       "      <td>1.179000</td>\n",
       "      <td>NaN</td>\n",
       "      <td>NaN</td>\n",
       "    </tr>\n",
       "    <tr>\n",
       "      <th>1</th>\n",
       "      <td>Africa Eastern and Southern</td>\n",
       "      <td>AFE</td>\n",
       "      <td>Fertility rate, total (births per woman)</td>\n",
       "      <td>SP.DYN.TFRT.IN</td>\n",
       "      <td>6.724125</td>\n",
       "      <td>6.742752</td>\n",
       "      <td>6.762930</td>\n",
       "      <td>6.778712</td>\n",
       "      <td>6.788420</td>\n",
       "      <td>6.800322</td>\n",
       "      <td>...</td>\n",
       "      <td>4.677618</td>\n",
       "      <td>4.615670</td>\n",
       "      <td>4.570409</td>\n",
       "      <td>4.527705</td>\n",
       "      <td>4.482898</td>\n",
       "      <td>4.416900</td>\n",
       "      <td>4.354709</td>\n",
       "      <td>4.288788</td>\n",
       "      <td>NaN</td>\n",
       "      <td>NaN</td>\n",
       "    </tr>\n",
       "    <tr>\n",
       "      <th>2</th>\n",
       "      <td>Afghanistan</td>\n",
       "      <td>AFG</td>\n",
       "      <td>Fertility rate, total (births per woman)</td>\n",
       "      <td>SP.DYN.TFRT.IN</td>\n",
       "      <td>7.282000</td>\n",
       "      <td>7.284000</td>\n",
       "      <td>7.292000</td>\n",
       "      <td>7.302000</td>\n",
       "      <td>7.304000</td>\n",
       "      <td>7.305000</td>\n",
       "      <td>...</td>\n",
       "      <td>5.405000</td>\n",
       "      <td>5.262000</td>\n",
       "      <td>5.129000</td>\n",
       "      <td>5.002000</td>\n",
       "      <td>4.870000</td>\n",
       "      <td>4.750000</td>\n",
       "      <td>4.643000</td>\n",
       "      <td>4.523000</td>\n",
       "      <td>NaN</td>\n",
       "      <td>NaN</td>\n",
       "    </tr>\n",
       "    <tr>\n",
       "      <th>3</th>\n",
       "      <td>Africa Western and Central</td>\n",
       "      <td>AFW</td>\n",
       "      <td>Fertility rate, total (births per woman)</td>\n",
       "      <td>SP.DYN.TFRT.IN</td>\n",
       "      <td>6.458448</td>\n",
       "      <td>6.471518</td>\n",
       "      <td>6.491826</td>\n",
       "      <td>6.506088</td>\n",
       "      <td>6.525355</td>\n",
       "      <td>6.541102</td>\n",
       "      <td>...</td>\n",
       "      <td>5.385059</td>\n",
       "      <td>5.328709</td>\n",
       "      <td>5.255345</td>\n",
       "      <td>5.186319</td>\n",
       "      <td>5.118932</td>\n",
       "      <td>5.049329</td>\n",
       "      <td>4.978662</td>\n",
       "      <td>4.897322</td>\n",
       "      <td>NaN</td>\n",
       "      <td>NaN</td>\n",
       "    </tr>\n",
       "    <tr>\n",
       "      <th>4</th>\n",
       "      <td>Angola</td>\n",
       "      <td>AGO</td>\n",
       "      <td>Fertility rate, total (births per woman)</td>\n",
       "      <td>SP.DYN.TFRT.IN</td>\n",
       "      <td>6.708000</td>\n",
       "      <td>6.790000</td>\n",
       "      <td>6.872000</td>\n",
       "      <td>6.954000</td>\n",
       "      <td>7.036000</td>\n",
       "      <td>7.116000</td>\n",
       "      <td>...</td>\n",
       "      <td>5.774000</td>\n",
       "      <td>5.686000</td>\n",
       "      <td>5.600000</td>\n",
       "      <td>5.519000</td>\n",
       "      <td>5.442000</td>\n",
       "      <td>5.371000</td>\n",
       "      <td>5.304000</td>\n",
       "      <td>5.209000</td>\n",
       "      <td>NaN</td>\n",
       "      <td>NaN</td>\n",
       "    </tr>\n",
       "  </tbody>\n",
       "</table>\n",
       "<p>5 rows × 69 columns</p>\n",
       "</div>"
      ],
      "text/plain": [
       "                  Country Name Country Code  \\\n",
       "0                        Aruba          ABW   \n",
       "1  Africa Eastern and Southern          AFE   \n",
       "2                  Afghanistan          AFG   \n",
       "3   Africa Western and Central          AFW   \n",
       "4                       Angola          AGO   \n",
       "\n",
       "                             Indicator Name  Indicator Code      1960  \\\n",
       "0  Fertility rate, total (births per woman)  SP.DYN.TFRT.IN  4.820000   \n",
       "1  Fertility rate, total (births per woman)  SP.DYN.TFRT.IN  6.724125   \n",
       "2  Fertility rate, total (births per woman)  SP.DYN.TFRT.IN  7.282000   \n",
       "3  Fertility rate, total (births per woman)  SP.DYN.TFRT.IN  6.458448   \n",
       "4  Fertility rate, total (births per woman)  SP.DYN.TFRT.IN  6.708000   \n",
       "\n",
       "       1961      1962      1963      1964      1965  ...      2015      2016  \\\n",
       "0  4.655000  4.471000  4.271000  4.059000  3.842000  ...  1.972000  1.953000   \n",
       "1  6.742752  6.762930  6.778712  6.788420  6.800322  ...  4.677618  4.615670   \n",
       "2  7.284000  7.292000  7.302000  7.304000  7.305000  ...  5.405000  5.262000   \n",
       "3  6.471518  6.491826  6.506088  6.525355  6.541102  ...  5.385059  5.328709   \n",
       "4  6.790000  6.872000  6.954000  7.036000  7.116000  ...  5.774000  5.686000   \n",
       "\n",
       "       2017      2018      2019      2020      2021      2022  2023  \\\n",
       "0  1.839000  1.587000  1.486000  1.325000  1.180000  1.179000   NaN   \n",
       "1  4.570409  4.527705  4.482898  4.416900  4.354709  4.288788   NaN   \n",
       "2  5.129000  5.002000  4.870000  4.750000  4.643000  4.523000   NaN   \n",
       "3  5.255345  5.186319  5.118932  5.049329  4.978662  4.897322   NaN   \n",
       "4  5.600000  5.519000  5.442000  5.371000  5.304000  5.209000   NaN   \n",
       "\n",
       "   Unnamed: 68  \n",
       "0          NaN  \n",
       "1          NaN  \n",
       "2          NaN  \n",
       "3          NaN  \n",
       "4          NaN  \n",
       "\n",
       "[5 rows x 69 columns]"
      ]
     },
     "execution_count": 2,
     "metadata": {},
     "output_type": "execute_result"
    }
   ],
   "source": [
    "# Primero cargamos los datos del que se encuentran en formato csv \n",
    "\n",
    "data= pd.read_csv('../Data/Data_Fecundidad.csv', sep=',', skiprows=3)\n",
    "data.head()"
   ]
  },
  {
   "cell_type": "markdown",
   "metadata": {},
   "source": [
    "#### El Obejetivo principal de este proyecto estudiar las tasas de fecundidad en la region de America del Sur, por lo que solo se seleccionaran los paises de dicha region, y el tiempo de estudio sera de 40 años, por lo se escogeran los datos desde 1980 hasta los mas recientes"
   ]
  },
  {
   "cell_type": "markdown",
   "metadata": {},
   "source": [
    "#### Antes de filtar los datos, por lo que decidimos seleccionar, como se puede ver que tenemos nuestra base datos en formato Width, lo cual no es muy practico para su manejo, por lo que la transoformamos en formato Long"
   ]
  },
  {
   "cell_type": "code",
   "execution_count": 3,
   "metadata": {},
   "outputs": [
    {
     "data": {
      "text/html": [
       "<div>\n",
       "<style scoped>\n",
       "    .dataframe tbody tr th:only-of-type {\n",
       "        vertical-align: middle;\n",
       "    }\n",
       "\n",
       "    .dataframe tbody tr th {\n",
       "        vertical-align: top;\n",
       "    }\n",
       "\n",
       "    .dataframe thead th {\n",
       "        text-align: right;\n",
       "    }\n",
       "</style>\n",
       "<table border=\"1\" class=\"dataframe\">\n",
       "  <thead>\n",
       "    <tr style=\"text-align: right;\">\n",
       "      <th></th>\n",
       "      <th>Country Name</th>\n",
       "      <th>Country Code</th>\n",
       "      <th>Indicator Name</th>\n",
       "      <th>Indicator Code</th>\n",
       "      <th>Year</th>\n",
       "      <th>Fertility Rate</th>\n",
       "    </tr>\n",
       "  </thead>\n",
       "  <tbody>\n",
       "    <tr>\n",
       "      <th>0</th>\n",
       "      <td>Aruba</td>\n",
       "      <td>ABW</td>\n",
       "      <td>Fertility rate, total (births per woman)</td>\n",
       "      <td>SP.DYN.TFRT.IN</td>\n",
       "      <td>1960</td>\n",
       "      <td>4.820000</td>\n",
       "    </tr>\n",
       "    <tr>\n",
       "      <th>1</th>\n",
       "      <td>Africa Eastern and Southern</td>\n",
       "      <td>AFE</td>\n",
       "      <td>Fertility rate, total (births per woman)</td>\n",
       "      <td>SP.DYN.TFRT.IN</td>\n",
       "      <td>1960</td>\n",
       "      <td>6.724125</td>\n",
       "    </tr>\n",
       "    <tr>\n",
       "      <th>2</th>\n",
       "      <td>Afghanistan</td>\n",
       "      <td>AFG</td>\n",
       "      <td>Fertility rate, total (births per woman)</td>\n",
       "      <td>SP.DYN.TFRT.IN</td>\n",
       "      <td>1960</td>\n",
       "      <td>7.282000</td>\n",
       "    </tr>\n",
       "    <tr>\n",
       "      <th>3</th>\n",
       "      <td>Africa Western and Central</td>\n",
       "      <td>AFW</td>\n",
       "      <td>Fertility rate, total (births per woman)</td>\n",
       "      <td>SP.DYN.TFRT.IN</td>\n",
       "      <td>1960</td>\n",
       "      <td>6.458448</td>\n",
       "    </tr>\n",
       "    <tr>\n",
       "      <th>4</th>\n",
       "      <td>Angola</td>\n",
       "      <td>AGO</td>\n",
       "      <td>Fertility rate, total (births per woman)</td>\n",
       "      <td>SP.DYN.TFRT.IN</td>\n",
       "      <td>1960</td>\n",
       "      <td>6.708000</td>\n",
       "    </tr>\n",
       "    <tr>\n",
       "      <th>...</th>\n",
       "      <td>...</td>\n",
       "      <td>...</td>\n",
       "      <td>...</td>\n",
       "      <td>...</td>\n",
       "      <td>...</td>\n",
       "      <td>...</td>\n",
       "    </tr>\n",
       "    <tr>\n",
       "      <th>17285</th>\n",
       "      <td>Kosovo</td>\n",
       "      <td>XKX</td>\n",
       "      <td>Fertility rate, total (births per woman)</td>\n",
       "      <td>SP.DYN.TFRT.IN</td>\n",
       "      <td>Unnamed: 68</td>\n",
       "      <td>NaN</td>\n",
       "    </tr>\n",
       "    <tr>\n",
       "      <th>17286</th>\n",
       "      <td>Yemen, Rep.</td>\n",
       "      <td>YEM</td>\n",
       "      <td>Fertility rate, total (births per woman)</td>\n",
       "      <td>SP.DYN.TFRT.IN</td>\n",
       "      <td>Unnamed: 68</td>\n",
       "      <td>NaN</td>\n",
       "    </tr>\n",
       "    <tr>\n",
       "      <th>17287</th>\n",
       "      <td>South Africa</td>\n",
       "      <td>ZAF</td>\n",
       "      <td>Fertility rate, total (births per woman)</td>\n",
       "      <td>SP.DYN.TFRT.IN</td>\n",
       "      <td>Unnamed: 68</td>\n",
       "      <td>NaN</td>\n",
       "    </tr>\n",
       "    <tr>\n",
       "      <th>17288</th>\n",
       "      <td>Zambia</td>\n",
       "      <td>ZMB</td>\n",
       "      <td>Fertility rate, total (births per woman)</td>\n",
       "      <td>SP.DYN.TFRT.IN</td>\n",
       "      <td>Unnamed: 68</td>\n",
       "      <td>NaN</td>\n",
       "    </tr>\n",
       "    <tr>\n",
       "      <th>17289</th>\n",
       "      <td>Zimbabwe</td>\n",
       "      <td>ZWE</td>\n",
       "      <td>Fertility rate, total (births per woman)</td>\n",
       "      <td>SP.DYN.TFRT.IN</td>\n",
       "      <td>Unnamed: 68</td>\n",
       "      <td>NaN</td>\n",
       "    </tr>\n",
       "  </tbody>\n",
       "</table>\n",
       "<p>17290 rows × 6 columns</p>\n",
       "</div>"
      ],
      "text/plain": [
       "                      Country Name Country Code  \\\n",
       "0                            Aruba          ABW   \n",
       "1      Africa Eastern and Southern          AFE   \n",
       "2                      Afghanistan          AFG   \n",
       "3       Africa Western and Central          AFW   \n",
       "4                           Angola          AGO   \n",
       "...                            ...          ...   \n",
       "17285                       Kosovo          XKX   \n",
       "17286                  Yemen, Rep.          YEM   \n",
       "17287                 South Africa          ZAF   \n",
       "17288                       Zambia          ZMB   \n",
       "17289                     Zimbabwe          ZWE   \n",
       "\n",
       "                                 Indicator Name  Indicator Code         Year  \\\n",
       "0      Fertility rate, total (births per woman)  SP.DYN.TFRT.IN         1960   \n",
       "1      Fertility rate, total (births per woman)  SP.DYN.TFRT.IN         1960   \n",
       "2      Fertility rate, total (births per woman)  SP.DYN.TFRT.IN         1960   \n",
       "3      Fertility rate, total (births per woman)  SP.DYN.TFRT.IN         1960   \n",
       "4      Fertility rate, total (births per woman)  SP.DYN.TFRT.IN         1960   \n",
       "...                                         ...             ...          ...   \n",
       "17285  Fertility rate, total (births per woman)  SP.DYN.TFRT.IN  Unnamed: 68   \n",
       "17286  Fertility rate, total (births per woman)  SP.DYN.TFRT.IN  Unnamed: 68   \n",
       "17287  Fertility rate, total (births per woman)  SP.DYN.TFRT.IN  Unnamed: 68   \n",
       "17288  Fertility rate, total (births per woman)  SP.DYN.TFRT.IN  Unnamed: 68   \n",
       "17289  Fertility rate, total (births per woman)  SP.DYN.TFRT.IN  Unnamed: 68   \n",
       "\n",
       "       Fertility Rate  \n",
       "0            4.820000  \n",
       "1            6.724125  \n",
       "2            7.282000  \n",
       "3            6.458448  \n",
       "4            6.708000  \n",
       "...               ...  \n",
       "17285             NaN  \n",
       "17286             NaN  \n",
       "17287             NaN  \n",
       "17288             NaN  \n",
       "17289             NaN  \n",
       "\n",
       "[17290 rows x 6 columns]"
      ]
     },
     "execution_count": 3,
     "metadata": {},
     "output_type": "execute_result"
    }
   ],
   "source": [
    "# Pasamos de formato width a long nuestra base de datos usando el metodo .melt\n",
    "\n",
    "data_long = pd.melt(data, \n",
    "                    id_vars=['Country Name', 'Country Code', 'Indicator Name', 'Indicator Code'], \n",
    "                    var_name='Year', \n",
    "                    value_name='Fertility Rate')\n",
    "\n",
    "data_long"
   ]
  },
  {
   "cell_type": "code",
   "execution_count": 4,
   "metadata": {},
   "outputs": [
    {
     "name": "stdout",
     "output_type": "stream",
     "text": [
      "<class 'pandas.core.frame.DataFrame'>\n",
      "RangeIndex: 17290 entries, 0 to 17289\n",
      "Data columns (total 6 columns):\n",
      " #   Column          Non-Null Count  Dtype  \n",
      "---  ------          --------------  -----  \n",
      " 0   Country Name    17290 non-null  object \n",
      " 1   Country Code    17290 non-null  object \n",
      " 2   Indicator Name  17290 non-null  object \n",
      " 3   Indicator Code  17290 non-null  object \n",
      " 4   Year            17290 non-null  object \n",
      " 5   Fertility Rate  16137 non-null  float64\n",
      "dtypes: float64(1), object(5)\n",
      "memory usage: 810.6+ KB\n"
     ]
    }
   ],
   "source": [
    "# Mostramos la informacion del los datos\n",
    "\n",
    "data_long.info()"
   ]
  },
  {
   "cell_type": "code",
   "execution_count": 5,
   "metadata": {},
   "outputs": [
    {
     "name": "stderr",
     "output_type": "stream",
     "text": [
      "C:\\Users\\HP\\AppData\\Local\\Temp\\ipykernel_9076\\3469371376.py:4: SettingWithCopyWarning: \n",
      "A value is trying to be set on a copy of a slice from a DataFrame.\n",
      "Try using .loc[row_indexer,col_indexer] = value instead\n",
      "\n",
      "See the caveats in the documentation: https://pandas.pydata.org/pandas-docs/stable/user_guide/indexing.html#returning-a-view-versus-a-copy\n",
      "  data_long['Year']= pd.to_numeric(data_long['Year'], errors= 'coerce')\n"
     ]
    }
   ],
   "source": [
    "# Como se puede ver la Variable 'Year' esta en tipo object, por lo que la transformamos en Int para poder usarla en flitros\n",
    "# Filtrar valores no deseados en la columna Year\n",
    "data_long = data_long[data_long['Year'] != 'Unnamed: 68']\n",
    "data_long['Year']= pd.to_numeric(data_long['Year'], errors= 'coerce')"
   ]
  },
  {
   "cell_type": "code",
   "execution_count": 6,
   "metadata": {},
   "outputs": [
    {
     "name": "stdout",
     "output_type": "stream",
     "text": [
      "<class 'pandas.core.frame.DataFrame'>\n",
      "Index: 17024 entries, 0 to 17023\n",
      "Data columns (total 6 columns):\n",
      " #   Column          Non-Null Count  Dtype  \n",
      "---  ------          --------------  -----  \n",
      " 0   Country Name    17024 non-null  object \n",
      " 1   Country Code    17024 non-null  object \n",
      " 2   Indicator Name  17024 non-null  object \n",
      " 3   Indicator Code  17024 non-null  object \n",
      " 4   Year            17024 non-null  int64  \n",
      " 5   Fertility Rate  16137 non-null  float64\n",
      "dtypes: float64(1), int64(1), object(4)\n",
      "memory usage: 931.0+ KB\n"
     ]
    }
   ],
   "source": [
    "# Vemos de nuevo la informacion y ya tenemos los años como variable numerica\n",
    "data_long.info()"
   ]
  },
  {
   "cell_type": "code",
   "execution_count": 7,
   "metadata": {},
   "outputs": [
    {
     "data": {
      "text/plain": [
       "array(['Aruba', 'Africa Eastern and Southern', 'Afghanistan',\n",
       "       'Africa Western and Central', 'Angola', 'Albania', 'Andorra',\n",
       "       'Arab World', 'United Arab Emirates', 'Argentina', 'Armenia',\n",
       "       'American Samoa', 'Antigua and Barbuda', 'Australia', 'Austria',\n",
       "       'Azerbaijan', 'Burundi', 'Belgium', 'Benin', 'Burkina Faso',\n",
       "       'Bangladesh', 'Bulgaria', 'Bahrain', 'Bahamas, The',\n",
       "       'Bosnia and Herzegovina', 'Belarus', 'Belize', 'Bermuda',\n",
       "       'Bolivia', 'Brazil', 'Barbados', 'Brunei Darussalam', 'Bhutan',\n",
       "       'Botswana', 'Central African Republic', 'Canada',\n",
       "       'Central Europe and the Baltics', 'Switzerland', 'Channel Islands',\n",
       "       'Chile', 'China', \"Cote d'Ivoire\", 'Cameroon', 'Congo, Dem. Rep.',\n",
       "       'Congo, Rep.', 'Colombia', 'Comoros', 'Cabo Verde', 'Costa Rica',\n",
       "       'Caribbean small states', 'Cuba', 'Curacao', 'Cayman Islands',\n",
       "       'Cyprus', 'Czechia', 'Germany', 'Djibouti', 'Dominica', 'Denmark',\n",
       "       'Dominican Republic', 'Algeria',\n",
       "       'East Asia & Pacific (excluding high income)',\n",
       "       'Early-demographic dividend', 'East Asia & Pacific',\n",
       "       'Europe & Central Asia (excluding high income)',\n",
       "       'Europe & Central Asia', 'Ecuador', 'Egypt, Arab Rep.',\n",
       "       'Euro area', 'Eritrea', 'Spain', 'Estonia', 'Ethiopia',\n",
       "       'European Union', 'Fragile and conflict affected situations',\n",
       "       'Finland', 'Fiji', 'France', 'Faroe Islands',\n",
       "       'Micronesia, Fed. Sts.', 'Gabon', 'United Kingdom', 'Georgia',\n",
       "       'Ghana', 'Gibraltar', 'Guinea', 'Gambia, The', 'Guinea-Bissau',\n",
       "       'Equatorial Guinea', 'Greece', 'Grenada', 'Greenland', 'Guatemala',\n",
       "       'Guam', 'Guyana', 'High income', 'Hong Kong SAR, China',\n",
       "       'Honduras', 'Heavily indebted poor countries (HIPC)', 'Croatia',\n",
       "       'Haiti', 'Hungary', 'IBRD only', 'IDA & IBRD total', 'IDA total',\n",
       "       'IDA blend', 'Indonesia', 'IDA only', 'Isle of Man', 'India',\n",
       "       'Not classified', 'Ireland', 'Iran, Islamic Rep.', 'Iraq',\n",
       "       'Iceland', 'Israel', 'Italy', 'Jamaica', 'Jordan', 'Japan',\n",
       "       'Kazakhstan', 'Kenya', 'Kyrgyz Republic', 'Cambodia', 'Kiribati',\n",
       "       'St. Kitts and Nevis', 'Korea, Rep.', 'Kuwait',\n",
       "       'Latin America & Caribbean (excluding high income)', 'Lao PDR',\n",
       "       'Lebanon', 'Liberia', 'Libya', 'St. Lucia',\n",
       "       'Latin America & Caribbean',\n",
       "       'Least developed countries: UN classification', 'Low income',\n",
       "       'Liechtenstein', 'Sri Lanka', 'Lower middle income',\n",
       "       'Low & middle income', 'Lesotho', 'Late-demographic dividend',\n",
       "       'Lithuania', 'Luxembourg', 'Latvia', 'Macao SAR, China',\n",
       "       'St. Martin (French part)', 'Morocco', 'Monaco', 'Moldova',\n",
       "       'Madagascar', 'Maldives', 'Middle East & North Africa', 'Mexico',\n",
       "       'Marshall Islands', 'Middle income', 'North Macedonia', 'Mali',\n",
       "       'Malta', 'Myanmar',\n",
       "       'Middle East & North Africa (excluding high income)', 'Montenegro',\n",
       "       'Mongolia', 'Northern Mariana Islands', 'Mozambique', 'Mauritania',\n",
       "       'Mauritius', 'Malawi', 'Malaysia', 'North America', 'Namibia',\n",
       "       'New Caledonia', 'Niger', 'Nigeria', 'Nicaragua', 'Netherlands',\n",
       "       'Norway', 'Nepal', 'Nauru', 'New Zealand', 'OECD members', 'Oman',\n",
       "       'Other small states', 'Pakistan', 'Panama', 'Peru', 'Philippines',\n",
       "       'Palau', 'Papua New Guinea', 'Poland', 'Pre-demographic dividend',\n",
       "       'Puerto Rico', \"Korea, Dem. People's Rep.\", 'Portugal', 'Paraguay',\n",
       "       'West Bank and Gaza', 'Pacific island small states',\n",
       "       'Post-demographic dividend', 'French Polynesia', 'Qatar',\n",
       "       'Romania', 'Russian Federation', 'Rwanda', 'South Asia',\n",
       "       'Saudi Arabia', 'Sudan', 'Senegal', 'Singapore', 'Solomon Islands',\n",
       "       'Sierra Leone', 'El Salvador', 'San Marino', 'Somalia', 'Serbia',\n",
       "       'Sub-Saharan Africa (excluding high income)', 'South Sudan',\n",
       "       'Sub-Saharan Africa', 'Small states', 'Sao Tome and Principe',\n",
       "       'Suriname', 'Slovak Republic', 'Slovenia', 'Sweden', 'Eswatini',\n",
       "       'Sint Maarten (Dutch part)', 'Seychelles', 'Syrian Arab Republic',\n",
       "       'Turks and Caicos Islands', 'Chad',\n",
       "       'East Asia & Pacific (IDA & IBRD countries)',\n",
       "       'Europe & Central Asia (IDA & IBRD countries)', 'Togo', 'Thailand',\n",
       "       'Tajikistan', 'Turkmenistan',\n",
       "       'Latin America & the Caribbean (IDA & IBRD countries)',\n",
       "       'Timor-Leste', 'Middle East & North Africa (IDA & IBRD countries)',\n",
       "       'Tonga', 'South Asia (IDA & IBRD)',\n",
       "       'Sub-Saharan Africa (IDA & IBRD countries)', 'Trinidad and Tobago',\n",
       "       'Tunisia', 'Turkiye', 'Tuvalu', 'Tanzania', 'Uganda', 'Ukraine',\n",
       "       'Upper middle income', 'Uruguay', 'United States', 'Uzbekistan',\n",
       "       'St. Vincent and the Grenadines', 'Venezuela, RB',\n",
       "       'British Virgin Islands', 'Virgin Islands (U.S.)', 'Viet Nam',\n",
       "       'Vanuatu', 'World', 'Samoa', 'Kosovo', 'Yemen, Rep.',\n",
       "       'South Africa', 'Zambia', 'Zimbabwe'], dtype=object)"
      ]
     },
     "execution_count": 7,
     "metadata": {},
     "output_type": "execute_result"
    }
   ],
   "source": [
    "# Ahora vemos los nombre de los paises para poder filtar correctamente \n",
    "data_long['Country Name'].unique()"
   ]
  },
  {
   "cell_type": "code",
   "execution_count": 8,
   "metadata": {},
   "outputs": [
    {
     "data": {
      "text/html": [
       "<div>\n",
       "<style scoped>\n",
       "    .dataframe tbody tr th:only-of-type {\n",
       "        vertical-align: middle;\n",
       "    }\n",
       "\n",
       "    .dataframe tbody tr th {\n",
       "        vertical-align: top;\n",
       "    }\n",
       "\n",
       "    .dataframe thead th {\n",
       "        text-align: right;\n",
       "    }\n",
       "</style>\n",
       "<table border=\"1\" class=\"dataframe\">\n",
       "  <thead>\n",
       "    <tr style=\"text-align: right;\">\n",
       "      <th></th>\n",
       "      <th>Country Name</th>\n",
       "      <th>Country Code</th>\n",
       "      <th>Indicator Name</th>\n",
       "      <th>Indicator Code</th>\n",
       "      <th>Year</th>\n",
       "      <th>Fertility Rate</th>\n",
       "    </tr>\n",
       "  </thead>\n",
       "  <tbody>\n",
       "    <tr>\n",
       "      <th>5329</th>\n",
       "      <td>Argentina</td>\n",
       "      <td>ARG</td>\n",
       "      <td>Fertility rate, total (births per woman)</td>\n",
       "      <td>SP.DYN.TFRT.IN</td>\n",
       "      <td>1980</td>\n",
       "      <td>3.301</td>\n",
       "    </tr>\n",
       "    <tr>\n",
       "      <th>5348</th>\n",
       "      <td>Bolivia</td>\n",
       "      <td>BOL</td>\n",
       "      <td>Fertility rate, total (births per woman)</td>\n",
       "      <td>SP.DYN.TFRT.IN</td>\n",
       "      <td>1980</td>\n",
       "      <td>5.474</td>\n",
       "    </tr>\n",
       "    <tr>\n",
       "      <th>5349</th>\n",
       "      <td>Brazil</td>\n",
       "      <td>BRA</td>\n",
       "      <td>Fertility rate, total (births per woman)</td>\n",
       "      <td>SP.DYN.TFRT.IN</td>\n",
       "      <td>1980</td>\n",
       "      <td>4.037</td>\n",
       "    </tr>\n",
       "    <tr>\n",
       "      <th>5359</th>\n",
       "      <td>Chile</td>\n",
       "      <td>CHL</td>\n",
       "      <td>Fertility rate, total (births per woman)</td>\n",
       "      <td>SP.DYN.TFRT.IN</td>\n",
       "      <td>1980</td>\n",
       "      <td>2.744</td>\n",
       "    </tr>\n",
       "    <tr>\n",
       "      <th>5365</th>\n",
       "      <td>Colombia</td>\n",
       "      <td>COL</td>\n",
       "      <td>Fertility rate, total (births per woman)</td>\n",
       "      <td>SP.DYN.TFRT.IN</td>\n",
       "      <td>1980</td>\n",
       "      <td>3.856</td>\n",
       "    </tr>\n",
       "    <tr>\n",
       "      <th>...</th>\n",
       "      <td>...</td>\n",
       "      <td>...</td>\n",
       "      <td>...</td>\n",
       "      <td>...</td>\n",
       "      <td>...</td>\n",
       "      <td>...</td>\n",
       "    </tr>\n",
       "    <tr>\n",
       "      <th>16678</th>\n",
       "      <td>Peru</td>\n",
       "      <td>PER</td>\n",
       "      <td>Fertility rate, total (births per woman)</td>\n",
       "      <td>SP.DYN.TFRT.IN</td>\n",
       "      <td>2022</td>\n",
       "      <td>2.164</td>\n",
       "    </tr>\n",
       "    <tr>\n",
       "      <th>16687</th>\n",
       "      <td>Paraguay</td>\n",
       "      <td>PRY</td>\n",
       "      <td>Fertility rate, total (births per woman)</td>\n",
       "      <td>SP.DYN.TFRT.IN</td>\n",
       "      <td>2022</td>\n",
       "      <td>2.444</td>\n",
       "    </tr>\n",
       "    <tr>\n",
       "      <th>16712</th>\n",
       "      <td>Suriname</td>\n",
       "      <td>SUR</td>\n",
       "      <td>Fertility rate, total (births per woman)</td>\n",
       "      <td>SP.DYN.TFRT.IN</td>\n",
       "      <td>2022</td>\n",
       "      <td>2.322</td>\n",
       "    </tr>\n",
       "    <tr>\n",
       "      <th>16742</th>\n",
       "      <td>Uruguay</td>\n",
       "      <td>URY</td>\n",
       "      <td>Fertility rate, total (births per woman)</td>\n",
       "      <td>SP.DYN.TFRT.IN</td>\n",
       "      <td>2022</td>\n",
       "      <td>1.483</td>\n",
       "    </tr>\n",
       "    <tr>\n",
       "      <th>16746</th>\n",
       "      <td>Venezuela, RB</td>\n",
       "      <td>VEN</td>\n",
       "      <td>Fertility rate, total (births per woman)</td>\n",
       "      <td>SP.DYN.TFRT.IN</td>\n",
       "      <td>2022</td>\n",
       "      <td>2.188</td>\n",
       "    </tr>\n",
       "  </tbody>\n",
       "</table>\n",
       "<p>516 rows × 6 columns</p>\n",
       "</div>"
      ],
      "text/plain": [
       "        Country Name Country Code                            Indicator Name  \\\n",
       "5329       Argentina          ARG  Fertility rate, total (births per woman)   \n",
       "5348         Bolivia          BOL  Fertility rate, total (births per woman)   \n",
       "5349          Brazil          BRA  Fertility rate, total (births per woman)   \n",
       "5359           Chile          CHL  Fertility rate, total (births per woman)   \n",
       "5365        Colombia          COL  Fertility rate, total (births per woman)   \n",
       "...              ...          ...                                       ...   \n",
       "16678           Peru          PER  Fertility rate, total (births per woman)   \n",
       "16687       Paraguay          PRY  Fertility rate, total (births per woman)   \n",
       "16712       Suriname          SUR  Fertility rate, total (births per woman)   \n",
       "16742        Uruguay          URY  Fertility rate, total (births per woman)   \n",
       "16746  Venezuela, RB          VEN  Fertility rate, total (births per woman)   \n",
       "\n",
       "       Indicator Code  Year  Fertility Rate  \n",
       "5329   SP.DYN.TFRT.IN  1980           3.301  \n",
       "5348   SP.DYN.TFRT.IN  1980           5.474  \n",
       "5349   SP.DYN.TFRT.IN  1980           4.037  \n",
       "5359   SP.DYN.TFRT.IN  1980           2.744  \n",
       "5365   SP.DYN.TFRT.IN  1980           3.856  \n",
       "...               ...   ...             ...  \n",
       "16678  SP.DYN.TFRT.IN  2022           2.164  \n",
       "16687  SP.DYN.TFRT.IN  2022           2.444  \n",
       "16712  SP.DYN.TFRT.IN  2022           2.322  \n",
       "16742  SP.DYN.TFRT.IN  2022           1.483  \n",
       "16746  SP.DYN.TFRT.IN  2022           2.188  \n",
       "\n",
       "[516 rows x 6 columns]"
      ]
     },
     "execution_count": 8,
     "metadata": {},
     "output_type": "execute_result"
    }
   ],
   "source": [
    "# Creamos una lista con los paises de America del Sur\n",
    "\n",
    "paises= ['Argentina', 'Bolivia', 'Brazil', 'Chile', 'Colombia', \n",
    "        'Ecuador', 'Guyana', 'Paraguay', 'Peru', 'Suriname', 'Uruguay', 'Venezuela, RB']\n",
    "\n",
    "# Filtramamos los datos \n",
    "\n",
    "data_filtrada= data_long[(data_long['Country Name'].isin(paises)) &  (data_long['Year'].between(1980,2022))]\n",
    "\n",
    "# Mostramos los datos\n",
    "\n",
    "data_filtrada"
   ]
  },
  {
   "cell_type": "code",
   "execution_count": 11,
   "metadata": {},
   "outputs": [
    {
     "name": "stderr",
     "output_type": "stream",
     "text": [
      "C:\\Users\\HP\\AppData\\Local\\Temp\\ipykernel_9076\\778869682.py:3: SettingWithCopyWarning: \n",
      "A value is trying to be set on a copy of a slice from a DataFrame\n",
      "\n",
      "See the caveats in the documentation: https://pandas.pydata.org/pandas-docs/stable/user_guide/indexing.html#returning-a-view-versus-a-copy\n",
      "  data_filtrada['Country Name'].replace('Venezuela, RB', 'Venezuela', inplace=True)\n"
     ]
    }
   ],
   "source": [
    "# Cambiamos el nombre de Venezuela\n",
    "\n",
    "data_filtrada['Country Name'].replace('Venezuela, RB', 'Venezuela', inplace=True)"
   ]
  },
  {
   "cell_type": "code",
   "execution_count": 12,
   "metadata": {},
   "outputs": [
    {
     "data": {
      "text/plain": [
       "Country Name      0\n",
       "Country Code      0\n",
       "Indicator Name    0\n",
       "Indicator Code    0\n",
       "Year              0\n",
       "Fertility Rate    0\n",
       "dtype: int64"
      ]
     },
     "execution_count": 12,
     "metadata": {},
     "output_type": "execute_result"
    }
   ],
   "source": [
    "# Por ultimo nos percatamos si hay valores nulos en nuestros datos\n",
    "data_filtrada.isnull().sum()"
   ]
  },
  {
   "cell_type": "markdown",
   "metadata": {},
   "source": [
    "#### Una vez teniendo los datos ya filtrados y sin nulos procedemos a verlos de manera grafica."
   ]
  },
  {
   "cell_type": "code",
   "execution_count": 13,
   "metadata": {},
   "outputs": [
    {
     "data": {
      "image/png": "[encoded data removed]",
      "text/plain": [
       "<Figure size 1400x800 with 1 Axes>"
      ]
     },
     "metadata": {},
     "output_type": "display_data"
    }
   ],
   "source": [
    "# Establecer el estilo de los gráficos de Seaborn\n",
    "sns.set_style(\"whitegrid\")\n",
    "\n",
    "# Crear la figura\n",
    "plt.figure(figsize=(14, 8))\n",
    "\n",
    "# Usar una paleta de colores distintiva\n",
    "palette = sns.color_palette(\"tab10\", len(data_filtrada['Country Name'].unique()))\n",
    "\n",
    "# Graficar las líneas con diferentes estilos y grosor\n",
    "sns.lineplot(\n",
    "    data=data_filtrada, \n",
    "    x='Year', \n",
    "    y='Fertility Rate', \n",
    "    hue='Country Name', \n",
    "    style='Country Name', \n",
    "    markers=True, \n",
    "    dashes=False, \n",
    "    palette=palette,\n",
    "    linewidth=2.5\n",
    ")\n",
    "\n",
    "# Agregar título y etiquetas\n",
    "plt.title('Comportamiento de las tasas de fecundidad en Sudamérica', fontsize=20)\n",
    "plt.xlabel('Years', fontsize=14)\n",
    "plt.ylabel('Fertility Rate', fontsize=14)\n",
    "\n",
    "# Ajustar la leyenda para que no solape con el gráfico\n",
    "plt.legend(title='País', loc='center left', bbox_to_anchor=(1, 0.5))\n",
    "\n",
    "# Asegurar que el gráfico se ajuste bien dentro del marco\n",
    "plt.tight_layout()\n",
    "\n",
    "# Mostrar el gráfico\n",
    "plt.show()"
   ]
  },
  {
   "cell_type": "markdown",
   "metadata": {},
   "source": [
    "#### Ahora usaremos la libreria de Plotly las cual nos permite crear graficos interactivos y hacer el grafico anterior."
   ]
  },
  {
   "cell_type": "code",
   "execution_count": 19,
   "metadata": {},
   "outputs": [
    {
     "data": {
      "application/vnd.plotly.v1+json": {
       "config": {
        "plotlyServerURL": "https://plot.ly"
       },
       "data": [
        {
         "hovertemplate": "Country Name=Argentina<br>Years=%{x}<br>Fertility Rate=%{y}<extra></extra>",
         "legendgroup": "Argentina",
         "line": {
          "color": "#636efa",
          "dash": "solid"
         },
         "marker": {
          "symbol": "circle"
         },
         "mode": "lines",
         "name": "Argentina",
         "orientation": "v",
         "showlegend": true,
         "type": "scatter",
         "x": [
          1980,
          1981,
          1982,
          1983,
          1984,
          1985,
          1986,
          1987,
          1988,
          1989,
          1990,
          1991,
          1992,
          1993,
          1994,
          1995,
          1996,
          1997,
          1998,
          1999,
          2000,
          2001,
          2002,
          2003,
          2004,
          2005,
          2006,
          2007,
          2008,
          2009,
          2010,
          2011,
          2012,
          2013,
          2014,
          2015,
          2016,
          2017,
          2018,
          2019,
          2020,
          2021,
          2022
         ],
         "xaxis": "x",
         "y": [
          3.301,
          3.253,
          3.204,
          3.159,
          3.123,
          3.095,
          3.075,
          3.059,
          3.042,
          3.022,
          3.034,
          3.012,
          2.987,
          2.966,
          2.935,
          2.864,
          2.781,
          2.706,
          2.662,
          2.643,
          2.591,
          2.531,
          2.493,
          2.451,
          2.43,
          2.426,
          2.4,
          2.37,
          2.341,
          2.344,
          2.346,
          2.338,
          2.33,
          2.322,
          2.312,
          2.301,
          2.241,
          2.168,
          2.039,
          1.994,
          1.911,
          1.885,
          1.876
         ],
         "yaxis": "y"
        },
        {
         "hovertemplate": "Country Name=Bolivia<br>Years=%{x}<br>Fertility Rate=%{y}<extra></extra>",
         "legendgroup": "Bolivia",
         "line": {
          "color": "#EF553B",
          "dash": "solid"
         },
         "marker": {
          "symbol": "circle"
         },
         "mode": "lines",
         "name": "Bolivia",
         "orientation": "v",
         "showlegend": true,
         "type": "scatter",
         "x": [
          1980,
          1981,
          1982,
          1983,
          1984,
          1985,
          1986,
          1987,
          1988,
          1989,
          1990,
          1991,
          1992,
          1993,
          1994,
          1995,
          1996,
          1997,
          1998,
          1999,
          2000,
          2001,
          2002,
          2003,
          2004,
          2005,
          2006,
          2007,
          2008,
          2009,
          2010,
          2011,
          2012,
          2013,
          2014,
          2015,
          2016,
          2017,
          2018,
          2019,
          2020,
          2021,
          2022
         ],
         "xaxis": "x",
         "y": [
          5.474,
          5.408,
          5.346,
          5.289,
          5.238,
          5.189,
          5.139,
          5.087,
          5.028,
          4.963,
          4.89,
          4.81,
          4.713,
          4.592,
          4.494,
          4.409,
          4.336,
          4.219,
          4.149,
          4.09,
          3.991,
          3.89,
          3.802,
          3.721,
          3.633,
          3.558,
          3.533,
          3.447,
          3.364,
          3.287,
          3.213,
          3.143,
          3.076,
          3.01,
          2.947,
          2.886,
          2.829,
          2.777,
          2.73,
          2.688,
          2.651,
          2.618,
          2.584
         ],
         "yaxis": "y"
        },
        {
         "hovertemplate": "Country Name=Brazil<br>Years=%{x}<br>Fertility Rate=%{y}<extra></extra>",
         "legendgroup": "Brazil",
         "line": {
          "color": "#00cc96",
          "dash": "solid"
         },
         "marker": {
          "symbol": "circle"
         },
         "mode": "lines",
         "name": "Brazil",
         "orientation": "v",
         "showlegend": true,
         "type": "scatter",
         "x": [
          1980,
          1981,
          1982,
          1983,
          1984,
          1985,
          1986,
          1987,
          1988,
          1989,
          1990,
          1991,
          1992,
          1993,
          1994,
          1995,
          1996,
          1997,
          1998,
          1999,
          2000,
          2001,
          2002,
          2003,
          2004,
          2005,
          2006,
          2007,
          2008,
          2009,
          2010,
          2011,
          2012,
          2013,
          2014,
          2015,
          2016,
          2017,
          2018,
          2019,
          2020,
          2021,
          2022
         ],
         "xaxis": "x",
         "y": [
          4.037,
          3.943,
          3.838,
          3.723,
          3.6,
          3.471,
          3.342,
          3.234,
          3.112,
          3.01,
          2.905,
          2.815,
          2.719,
          2.672,
          2.617,
          2.579,
          2.516,
          2.465,
          2.409,
          2.331,
          2.255,
          2.183,
          2.103,
          2.023,
          2.002,
          1.974,
          1.927,
          1.881,
          1.842,
          1.825,
          1.81,
          1.8,
          1.767,
          1.748,
          1.767,
          1.777,
          1.709,
          1.736,
          1.749,
          1.703,
          1.649,
          1.641,
          1.626
         ],
         "yaxis": "y"
        },
        {
         "hovertemplate": "Country Name=Chile<br>Years=%{x}<br>Fertility Rate=%{y}<extra></extra>",
         "legendgroup": "Chile",
         "line": {
          "color": "#ab63fa",
          "dash": "solid"
         },
         "marker": {
          "symbol": "circle"
         },
         "mode": "lines",
         "name": "Chile",
         "orientation": "v",
         "showlegend": true,
         "type": "scatter",
         "x": [
          1980,
          1981,
          1982,
          1983,
          1984,
          1985,
          1986,
          1987,
          1988,
          1989,
          1990,
          1991,
          1992,
          1993,
          1994,
          1995,
          1996,
          1997,
          1998,
          1999,
          2000,
          2001,
          2002,
          2003,
          2004,
          2005,
          2006,
          2007,
          2008,
          2009,
          2010,
          2011,
          2012,
          2013,
          2014,
          2015,
          2016,
          2017,
          2018,
          2019,
          2020,
          2021,
          2022
         ],
         "xaxis": "x",
         "y": [
          2.744,
          2.689,
          2.648,
          2.619,
          2.601,
          2.592,
          2.589,
          2.59,
          2.591,
          2.589,
          2.579,
          2.558,
          2.478,
          2.43,
          2.377,
          2.303,
          2.245,
          2.177,
          2.112,
          2.044,
          1.987,
          1.961,
          1.935,
          1.873,
          1.826,
          1.803,
          1.803,
          1.826,
          1.85,
          1.855,
          1.844,
          1.823,
          1.798,
          1.786,
          1.774,
          1.737,
          1.676,
          1.598,
          1.564,
          1.545,
          1.537,
          1.537,
          1.539
         ],
         "yaxis": "y"
        },
        {
         "hovertemplate": "Country Name=Colombia<br>Years=%{x}<br>Fertility Rate=%{y}<extra></extra>",
         "legendgroup": "Colombia",
         "line": {
          "color": "#FFA15A",
          "dash": "solid"
         },
         "marker": {
          "symbol": "circle"
         },
         "mode": "lines",
         "name": "Colombia",
         "orientation": "v",
         "showlegend": true,
         "type": "scatter",
         "x": [
          1980,
          1981,
          1982,
          1983,
          1984,
          1985,
          1986,
          1987,
          1988,
          1989,
          1990,
          1991,
          1992,
          1993,
          1994,
          1995,
          1996,
          1997,
          1998,
          1999,
          2000,
          2001,
          2002,
          2003,
          2004,
          2005,
          2006,
          2007,
          2008,
          2009,
          2010,
          2011,
          2012,
          2013,
          2014,
          2015,
          2016,
          2017,
          2018,
          2019,
          2020,
          2021,
          2022
         ],
         "xaxis": "x",
         "y": [
          3.856,
          3.743,
          3.632,
          3.527,
          3.43,
          3.343,
          3.269,
          3.208,
          3.158,
          3.117,
          3.082,
          3.047,
          3.01,
          2.967,
          2.918,
          2.862,
          2.802,
          2.742,
          2.683,
          2.627,
          2.572,
          2.516,
          2.458,
          2.395,
          2.33,
          2.263,
          2.198,
          2.137,
          2.081,
          2.033,
          1.992,
          1.958,
          1.93,
          1.905,
          1.883,
          1.863,
          1.843,
          1.818,
          1.787,
          1.765,
          1.737,
          1.717,
          1.692
         ],
         "yaxis": "y"
        },
        {
         "hovertemplate": "Country Name=Ecuador<br>Years=%{x}<br>Fertility Rate=%{y}<extra></extra>",
         "legendgroup": "Ecuador",
         "line": {
          "color": "#19d3f3",
          "dash": "solid"
         },
         "marker": {
          "symbol": "circle"
         },
         "mode": "lines",
         "name": "Ecuador",
         "orientation": "v",
         "showlegend": true,
         "type": "scatter",
         "x": [
          1980,
          1981,
          1982,
          1983,
          1984,
          1985,
          1986,
          1987,
          1988,
          1989,
          1990,
          1991,
          1992,
          1993,
          1994,
          1995,
          1996,
          1997,
          1998,
          1999,
          2000,
          2001,
          2002,
          2003,
          2004,
          2005,
          2006,
          2007,
          2008,
          2009,
          2010,
          2011,
          2012,
          2013,
          2014,
          2015,
          2016,
          2017,
          2018,
          2019,
          2020,
          2021,
          2022
         ],
         "xaxis": "x",
         "y": [
          4.73,
          4.612,
          4.501,
          4.395,
          4.293,
          4.195,
          4.1,
          4.007,
          3.917,
          3.829,
          3.744,
          3.665,
          3.591,
          3.524,
          3.461,
          3.403,
          3.345,
          3.288,
          3.228,
          3.166,
          3.102,
          3.037,
          2.972,
          2.911,
          2.853,
          2.8,
          2.753,
          2.711,
          2.675,
          2.643,
          2.615,
          2.596,
          2.517,
          2.419,
          2.335,
          2.26,
          2.201,
          2.174,
          2.133,
          2.088,
          2.051,
          2.026,
          2.003
         ],
         "yaxis": "y"
        },
        {
         "hovertemplate": "Country Name=Guyana<br>Years=%{x}<br>Fertility Rate=%{y}<extra></extra>",
         "legendgroup": "Guyana",
         "line": {
          "color": "#FF6692",
          "dash": "solid"
         },
         "marker": {
          "symbol": "circle"
         },
         "mode": "lines",
         "name": "Guyana",
         "orientation": "v",
         "showlegend": true,
         "type": "scatter",
         "x": [
          1980,
          1981,
          1982,
          1983,
          1984,
          1985,
          1986,
          1987,
          1988,
          1989,
          1990,
          1991,
          1992,
          1993,
          1994,
          1995,
          1996,
          1997,
          1998,
          1999,
          2000,
          2001,
          2002,
          2003,
          2004,
          2005,
          2006,
          2007,
          2008,
          2009,
          2010,
          2011,
          2012,
          2013,
          2014,
          2015,
          2016,
          2017,
          2018,
          2019,
          2020,
          2021,
          2022
         ],
         "xaxis": "x",
         "y": [
          3.817,
          3.728,
          3.64,
          3.548,
          3.452,
          3.354,
          3.263,
          3.186,
          3.127,
          3.089,
          3.069,
          3.063,
          3.066,
          3.071,
          3.074,
          3.074,
          3.069,
          3.061,
          3.05,
          3.036,
          3.017,
          2.992,
          2.961,
          2.924,
          2.883,
          2.84,
          2.797,
          2.755,
          2.718,
          2.684,
          2.655,
          2.63,
          2.606,
          2.582,
          2.558,
          2.534,
          2.509,
          2.485,
          2.462,
          2.44,
          2.418,
          2.397,
          2.369
         ],
         "yaxis": "y"
        },
        {
         "hovertemplate": "Country Name=Peru<br>Years=%{x}<br>Fertility Rate=%{y}<extra></extra>",
         "legendgroup": "Peru",
         "line": {
          "color": "#B6E880",
          "dash": "solid"
         },
         "marker": {
          "symbol": "circle"
         },
         "mode": "lines",
         "name": "Peru",
         "orientation": "v",
         "showlegend": true,
         "type": "scatter",
         "x": [
          1980,
          1981,
          1982,
          1983,
          1984,
          1985,
          1986,
          1987,
          1988,
          1989,
          1990,
          1991,
          1992,
          1993,
          1994,
          1995,
          1996,
          1997,
          1998,
          1999,
          2000,
          2001,
          2002,
          2003,
          2004,
          2005,
          2006,
          2007,
          2008,
          2009,
          2010,
          2011,
          2012,
          2013,
          2014,
          2015,
          2016,
          2017,
          2018,
          2019,
          2020,
          2021,
          2022
         ],
         "xaxis": "x",
         "y": [
          5.041,
          4.915,
          4.795,
          4.68,
          4.568,
          4.46,
          4.354,
          4.247,
          4.138,
          4.026,
          3.912,
          3.794,
          3.673,
          3.552,
          3.432,
          3.315,
          3.203,
          3.099,
          3.002,
          2.917,
          2.845,
          2.744,
          2.693,
          2.661,
          2.673,
          2.686,
          2.686,
          2.666,
          2.628,
          2.607,
          2.573,
          2.542,
          2.487,
          2.432,
          2.385,
          2.338,
          2.306,
          2.281,
          2.26,
          2.242,
          2.216,
          2.192,
          2.164
         ],
         "yaxis": "y"
        },
        {
         "hovertemplate": "Country Name=Paraguay<br>Years=%{x}<br>Fertility Rate=%{y}<extra></extra>",
         "legendgroup": "Paraguay",
         "line": {
          "color": "#FF97FF",
          "dash": "solid"
         },
         "marker": {
          "symbol": "circle"
         },
         "mode": "lines",
         "name": "Paraguay",
         "orientation": "v",
         "showlegend": true,
         "type": "scatter",
         "x": [
          1980,
          1981,
          1982,
          1983,
          1984,
          1985,
          1986,
          1987,
          1988,
          1989,
          1990,
          1991,
          1992,
          1993,
          1994,
          1995,
          1996,
          1997,
          1998,
          1999,
          2000,
          2001,
          2002,
          2003,
          2004,
          2005,
          2006,
          2007,
          2008,
          2009,
          2010,
          2011,
          2012,
          2013,
          2014,
          2015,
          2016,
          2017,
          2018,
          2019,
          2020,
          2021,
          2022
         ],
         "xaxis": "x",
         "y": [
          5.122,
          5.165,
          5.126,
          5.087,
          5.037,
          4.974,
          4.9,
          4.818,
          4.73,
          4.639,
          4.547,
          4.457,
          4.368,
          4.282,
          4.196,
          4.108,
          4.014,
          3.911,
          3.798,
          3.678,
          3.553,
          3.431,
          3.315,
          3.21,
          3.119,
          3.04,
          2.97,
          2.907,
          2.846,
          2.787,
          2.73,
          2.675,
          2.625,
          2.636,
          2.646,
          2.645,
          2.624,
          2.591,
          2.561,
          2.525,
          2.497,
          2.469,
          2.444
         ],
         "yaxis": "y"
        },
        {
         "hovertemplate": "Country Name=Suriname<br>Years=%{x}<br>Fertility Rate=%{y}<extra></extra>",
         "legendgroup": "Suriname",
         "line": {
          "color": "#FECB52",
          "dash": "solid"
         },
         "marker": {
          "symbol": "circle"
         },
         "mode": "lines",
         "name": "Suriname",
         "orientation": "v",
         "showlegend": true,
         "type": "scatter",
         "x": [
          1980,
          1981,
          1982,
          1983,
          1984,
          1985,
          1986,
          1987,
          1988,
          1989,
          1990,
          1991,
          1992,
          1993,
          1994,
          1995,
          1996,
          1997,
          1998,
          1999,
          2000,
          2001,
          2002,
          2003,
          2004,
          2005,
          2006,
          2007,
          2008,
          2009,
          2010,
          2011,
          2012,
          2013,
          2014,
          2015,
          2016,
          2017,
          2018,
          2019,
          2020,
          2021,
          2022
         ],
         "xaxis": "x",
         "y": [
          3.895,
          3.798,
          3.715,
          3.64,
          3.57,
          3.505,
          3.445,
          3.391,
          3.345,
          3.304,
          3.267,
          3.231,
          3.195,
          3.156,
          3.115,
          3.072,
          3.03,
          2.99,
          2.955,
          2.923,
          2.895,
          2.868,
          2.84,
          2.811,
          2.781,
          2.749,
          2.717,
          2.687,
          2.659,
          2.633,
          2.61,
          2.587,
          2.565,
          2.543,
          2.519,
          2.494,
          2.469,
          2.443,
          2.418,
          2.394,
          2.371,
          2.348,
          2.322
         ],
         "yaxis": "y"
        },
        {
         "hovertemplate": "Country Name=Uruguay<br>Years=%{x}<br>Fertility Rate=%{y}<extra></extra>",
         "legendgroup": "Uruguay",
         "line": {
          "color": "#636efa",
          "dash": "solid"
         },
         "marker": {
          "symbol": "circle"
         },
         "mode": "lines",
         "name": "Uruguay",
         "orientation": "v",
         "showlegend": true,
         "type": "scatter",
         "x": [
          1980,
          1981,
          1982,
          1983,
          1984,
          1985,
          1986,
          1987,
          1988,
          1989,
          1990,
          1991,
          1992,
          1993,
          1994,
          1995,
          1996,
          1997,
          1998,
          1999,
          2000,
          2001,
          2002,
          2003,
          2004,
          2005,
          2006,
          2007,
          2008,
          2009,
          2010,
          2011,
          2012,
          2013,
          2014,
          2015,
          2016,
          2017,
          2018,
          2019,
          2020,
          2021,
          2022
         ],
         "xaxis": "x",
         "y": [
          2.587,
          2.562,
          2.53,
          2.492,
          2.476,
          2.48,
          2.472,
          2.416,
          2.506,
          2.516,
          2.433,
          2.446,
          2.423,
          2.397,
          2.415,
          2.401,
          2.364,
          2.328,
          2.262,
          2.22,
          2.168,
          2.132,
          2.142,
          2.101,
          2.09,
          2.097,
          2.07,
          2.048,
          2.03,
          2.018,
          2.011,
          2.008,
          2.006,
          2.01,
          1.998,
          2.023,
          1.945,
          1.796,
          1.658,
          1.546,
          1.477,
          1.493,
          1.483
         ],
         "yaxis": "y"
        },
        {
         "hovertemplate": "Country Name=Venezuela<br>Years=%{x}<br>Fertility Rate=%{y}<extra></extra>",
         "legendgroup": "Venezuela",
         "line": {
          "color": "#EF553B",
          "dash": "solid"
         },
         "marker": {
          "symbol": "circle"
         },
         "mode": "lines",
         "name": "Venezuela",
         "orientation": "v",
         "showlegend": true,
         "type": "scatter",
         "x": [
          1980,
          1981,
          1982,
          1983,
          1984,
          1985,
          1986,
          1987,
          1988,
          1989,
          1990,
          1991,
          1992,
          1993,
          1994,
          1995,
          1996,
          1997,
          1998,
          1999,
          2000,
          2001,
          2002,
          2003,
          2004,
          2005,
          2006,
          2007,
          2008,
          2009,
          2010,
          2011,
          2012,
          2013,
          2014,
          2015,
          2016,
          2017,
          2018,
          2019,
          2020,
          2021,
          2022
         ],
         "xaxis": "x",
         "y": [
          4.2,
          4.104,
          4.014,
          3.933,
          3.861,
          3.794,
          3.73,
          3.665,
          3.597,
          3.524,
          3.448,
          3.37,
          3.292,
          3.218,
          3.147,
          3.082,
          3.022,
          2.967,
          2.915,
          2.867,
          2.822,
          2.779,
          2.739,
          2.701,
          2.664,
          2.629,
          2.595,
          2.562,
          2.53,
          2.5,
          2.471,
          2.444,
          2.417,
          2.39,
          2.365,
          2.34,
          2.317,
          2.294,
          2.272,
          2.25,
          2.23,
          2.211,
          2.188
         ],
         "yaxis": "y"
        }
       ],
       "layout": {
        "legend": {
         "itemclick": "toggleothers",
         "itemdoubleclick": "toggle",
         "title": {
          "font": {
           "size": 14
          },
          "text": "País"
         },
         "tracegroupgap": 0
        },
        "margin": {
         "b": 0,
         "l": 0,
         "r": 0,
         "t": 40
        },
        "template": {
         "data": {
          "bar": [
           {
            "error_x": {
             "color": "#2a3f5f"
            },
            "error_y": {
             "color": "#2a3f5f"
            },
            "marker": {
             "line": {
              "color": "#E5ECF6",
              "width": 0.5
             },
             "pattern": {
              "fillmode": "overlay",
              "size": 10,
              "solidity": 0.2
             }
            },
            "type": "bar"
           }
          ],
          "barpolar": [
           {
            "marker": {
             "line": {
              "color": "#E5ECF6",
              "width": 0.5
             },
             "pattern": {
              "fillmode": "overlay",
              "size": 10,
              "solidity": 0.2
             }
            },
            "type": "barpolar"
           }
          ],
          "carpet": [
           {
            "aaxis": {
             "endlinecolor": "#2a3f5f",
             "gridcolor": "white",
             "linecolor": "white",
             "minorgridcolor": "white",
             "startlinecolor": "#2a3f5f"
            },
            "baxis": {
             "endlinecolor": "#2a3f5f",
             "gridcolor": "white",
             "linecolor": "white",
             "minorgridcolor": "white",
             "startlinecolor": "#2a3f5f"
            },
            "type": "carpet"
           }
          ],
          "choropleth": [
           {
            "colorbar": {
             "outlinewidth": 0,
             "ticks": ""
            },
            "type": "choropleth"
           }
          ],
          "contour": [
           {
            "colorbar": {
             "outlinewidth": 0,
             "ticks": ""
            },
            "colorscale": [
             [
              0,
              "#0d0887"
             ],
             [
              0.1111111111111111,
              "#46039f"
             ],
             [
              0.2222222222222222,
              "#7201a8"
             ],
             [
              0.3333333333333333,
              "#9c179e"
             ],
             [
              0.4444444444444444,
              "#bd3786"
             ],
             [
              0.5555555555555556,
              "#d8576b"
             ],
             [
              0.6666666666666666,
              "#ed7953"
             ],
             [
              0.7777777777777778,
              "#fb9f3a"
             ],
             [
              0.8888888888888888,
              "#fdca26"
             ],
             [
              1,
              "#f0f921"
             ]
            ],
            "type": "contour"
           }
          ],
          "contourcarpet": [
           {
            "colorbar": {
             "outlinewidth": 0,
             "ticks": ""
            },
            "type": "contourcarpet"
           }
          ],
          "heatmap": [
           {
            "colorbar": {
             "outlinewidth": 0,
             "ticks": ""
            },
            "colorscale": [
             [
              0,
              "#0d0887"
             ],
             [
              0.1111111111111111,
              "#46039f"
             ],
             [
              0.2222222222222222,
              "#7201a8"
             ],
             [
              0.3333333333333333,
              "#9c179e"
             ],
             [
              0.4444444444444444,
              "#bd3786"
             ],
             [
              0.5555555555555556,
              "#d8576b"
             ],
             [
              0.6666666666666666,
              "#ed7953"
             ],
             [
              0.7777777777777778,
              "#fb9f3a"
             ],
             [
              0.8888888888888888,
              "#fdca26"
             ],
             [
              1,
              "#f0f921"
             ]
            ],
            "type": "heatmap"
           }
          ],
          "heatmapgl": [
           {
            "colorbar": {
             "outlinewidth": 0,
             "ticks": ""
            },
            "colorscale": [
             [
              0,
              "#0d0887"
             ],
             [
              0.1111111111111111,
              "#46039f"
             ],
             [
              0.2222222222222222,
              "#7201a8"
             ],
             [
              0.3333333333333333,
              "#9c179e"
             ],
             [
              0.4444444444444444,
              "#bd3786"
             ],
             [
              0.5555555555555556,
              "#d8576b"
             ],
             [
              0.6666666666666666,
              "#ed7953"
             ],
             [
              0.7777777777777778,
              "#fb9f3a"
             ],
             [
              0.8888888888888888,
              "#fdca26"
             ],
             [
              1,
              "#f0f921"
             ]
            ],
            "type": "heatmapgl"
           }
          ],
          "histogram": [
           {
            "marker": {
             "pattern": {
              "fillmode": "overlay",
              "size": 10,
              "solidity": 0.2
             }
            },
            "type": "histogram"
           }
          ],
          "histogram2d": [
           {
            "colorbar": {
             "outlinewidth": 0,
             "ticks": ""
            },
            "colorscale": [
             [
              0,
              "#0d0887"
             ],
             [
              0.1111111111111111,
              "#46039f"
             ],
             [
              0.2222222222222222,
              "#7201a8"
             ],
             [
              0.3333333333333333,
              "#9c179e"
             ],
             [
              0.4444444444444444,
              "#bd3786"
             ],
             [
              0.5555555555555556,
              "#d8576b"
             ],
             [
              0.6666666666666666,
              "#ed7953"
             ],
             [
              0.7777777777777778,
              "#fb9f3a"
             ],
             [
              0.8888888888888888,
              "#fdca26"
             ],
             [
              1,
              "#f0f921"
             ]
            ],
            "type": "histogram2d"
           }
          ],
          "histogram2dcontour": [
           {
            "colorbar": {
             "outlinewidth": 0,
             "ticks": ""
            },
            "colorscale": [
             [
              0,
              "#0d0887"
             ],
             [
              0.1111111111111111,
              "#46039f"
             ],
             [
              0.2222222222222222,
              "#7201a8"
             ],
             [
              0.3333333333333333,
              "#9c179e"
             ],
             [
              0.4444444444444444,
              "#bd3786"
             ],
             [
              0.5555555555555556,
              "#d8576b"
             ],
             [
              0.6666666666666666,
              "#ed7953"
             ],
             [
              0.7777777777777778,
              "#fb9f3a"
             ],
             [
              0.8888888888888888,
              "#fdca26"
             ],
             [
              1,
              "#f0f921"
             ]
            ],
            "type": "histogram2dcontour"
           }
          ],
          "mesh3d": [
           {
            "colorbar": {
             "outlinewidth": 0,
             "ticks": ""
            },
            "type": "mesh3d"
           }
          ],
          "parcoords": [
           {
            "line": {
             "colorbar": {
              "outlinewidth": 0,
              "ticks": ""
             }
            },
            "type": "parcoords"
           }
          ],
          "pie": [
           {
            "automargin": true,
            "type": "pie"
           }
          ],
          "scatter": [
           {
            "fillpattern": {
             "fillmode": "overlay",
             "size": 10,
             "solidity": 0.2
            },
            "type": "scatter"
           }
          ],
          "scatter3d": [
           {
            "line": {
             "colorbar": {
              "outlinewidth": 0,
              "ticks": ""
             }
            },
            "marker": {
             "colorbar": {
              "outlinewidth": 0,
              "ticks": ""
             }
            },
            "type": "scatter3d"
           }
          ],
          "scattercarpet": [
           {
            "marker": {
             "colorbar": {
              "outlinewidth": 0,
              "ticks": ""
             }
            },
            "type": "scattercarpet"
           }
          ],
          "scattergeo": [
           {
            "marker": {
             "colorbar": {
              "outlinewidth": 0,
              "ticks": ""
             }
            },
            "type": "scattergeo"
           }
          ],
          "scattergl": [
           {
            "marker": {
             "colorbar": {
              "outlinewidth": 0,
              "ticks": ""
             }
            },
            "type": "scattergl"
           }
          ],
          "scattermapbox": [
           {
            "marker": {
             "colorbar": {
              "outlinewidth": 0,
              "ticks": ""
             }
            },
            "type": "scattermapbox"
           }
          ],
          "scatterpolar": [
           {
            "marker": {
             "colorbar": {
              "outlinewidth": 0,
              "ticks": ""
             }
            },
            "type": "scatterpolar"
           }
          ],
          "scatterpolargl": [
           {
            "marker": {
             "colorbar": {
              "outlinewidth": 0,
              "ticks": ""
             }
            },
            "type": "scatterpolargl"
           }
          ],
          "scatterternary": [
           {
            "marker": {
             "colorbar": {
              "outlinewidth": 0,
              "ticks": ""
             }
            },
            "type": "scatterternary"
           }
          ],
          "surface": [
           {
            "colorbar": {
             "outlinewidth": 0,
             "ticks": ""
            },
            "colorscale": [
             [
              0,
              "#0d0887"
             ],
             [
              0.1111111111111111,
              "#46039f"
             ],
             [
              0.2222222222222222,
              "#7201a8"
             ],
             [
              0.3333333333333333,
              "#9c179e"
             ],
             [
              0.4444444444444444,
              "#bd3786"
             ],
             [
              0.5555555555555556,
              "#d8576b"
             ],
             [
              0.6666666666666666,
              "#ed7953"
             ],
             [
              0.7777777777777778,
              "#fb9f3a"
             ],
             [
              0.8888888888888888,
              "#fdca26"
             ],
             [
              1,
              "#f0f921"
             ]
            ],
            "type": "surface"
           }
          ],
          "table": [
           {
            "cells": {
             "fill": {
              "color": "#EBF0F8"
             },
             "line": {
              "color": "white"
             }
            },
            "header": {
             "fill": {
              "color": "#C8D4E3"
             },
             "line": {
              "color": "white"
             }
            },
            "type": "table"
           }
          ]
         },
         "layout": {
          "annotationdefaults": {
           "arrowcolor": "#2a3f5f",
           "arrowhead": 0,
           "arrowwidth": 1
          },
          "autotypenumbers": "strict",
          "coloraxis": {
           "colorbar": {
            "outlinewidth": 0,
            "ticks": ""
           }
          },
          "colorscale": {
           "diverging": [
            [
             0,
             "#8e0152"
            ],
            [
             0.1,
             "#c51b7d"
            ],
            [
             0.2,
             "#de77ae"
            ],
            [
             0.3,
             "#f1b6da"
            ],
            [
             0.4,
             "#fde0ef"
            ],
            [
             0.5,
             "#f7f7f7"
            ],
            [
             0.6,
             "#e6f5d0"
            ],
            [
             0.7,
             "#b8e186"
            ],
            [
             0.8,
             "#7fbc41"
            ],
            [
             0.9,
             "#4d9221"
            ],
            [
             1,
             "#276419"
            ]
           ],
           "sequential": [
            [
             0,
             "#0d0887"
            ],
            [
             0.1111111111111111,
             "#46039f"
            ],
            [
             0.2222222222222222,
             "#7201a8"
            ],
            [
             0.3333333333333333,
             "#9c179e"
            ],
            [
             0.4444444444444444,
             "#bd3786"
            ],
            [
             0.5555555555555556,
             "#d8576b"
            ],
            [
             0.6666666666666666,
             "#ed7953"
            ],
            [
             0.7777777777777778,
             "#fb9f3a"
            ],
            [
             0.8888888888888888,
             "#fdca26"
            ],
            [
             1,
             "#f0f921"
            ]
           ],
           "sequentialminus": [
            [
             0,
             "#0d0887"
            ],
            [
             0.1111111111111111,
             "#46039f"
            ],
            [
             0.2222222222222222,
             "#7201a8"
            ],
            [
             0.3333333333333333,
             "#9c179e"
            ],
            [
             0.4444444444444444,
             "#bd3786"
            ],
            [
             0.5555555555555556,
             "#d8576b"
            ],
            [
             0.6666666666666666,
             "#ed7953"
            ],
            [
             0.7777777777777778,
             "#fb9f3a"
            ],
            [
             0.8888888888888888,
             "#fdca26"
            ],
            [
             1,
             "#f0f921"
            ]
           ]
          },
          "colorway": [
           "#636efa",
           "#EF553B",
           "#00cc96",
           "#ab63fa",
           "#FFA15A",
           "#19d3f3",
           "#FF6692",
           "#B6E880",
           "#FF97FF",
           "#FECB52"
          ],
          "font": {
           "color": "#2a3f5f"
          },
          "geo": {
           "bgcolor": "white",
           "lakecolor": "white",
           "landcolor": "#E5ECF6",
           "showlakes": true,
           "showland": true,
           "subunitcolor": "white"
          },
          "hoverlabel": {
           "align": "left"
          },
          "hovermode": "closest",
          "mapbox": {
           "style": "light"
          },
          "paper_bgcolor": "white",
          "plot_bgcolor": "#E5ECF6",
          "polar": {
           "angularaxis": {
            "gridcolor": "white",
            "linecolor": "white",
            "ticks": ""
           },
           "bgcolor": "#E5ECF6",
           "radialaxis": {
            "gridcolor": "white",
            "linecolor": "white",
            "ticks": ""
           }
          },
          "scene": {
           "xaxis": {
            "backgroundcolor": "#E5ECF6",
            "gridcolor": "white",
            "gridwidth": 2,
            "linecolor": "white",
            "showbackground": true,
            "ticks": "",
            "zerolinecolor": "white"
           },
           "yaxis": {
            "backgroundcolor": "#E5ECF6",
            "gridcolor": "white",
            "gridwidth": 2,
            "linecolor": "white",
            "showbackground": true,
            "ticks": "",
            "zerolinecolor": "white"
           },
           "zaxis": {
            "backgroundcolor": "#E5ECF6",
            "gridcolor": "white",
            "gridwidth": 2,
            "linecolor": "white",
            "showbackground": true,
            "ticks": "",
            "zerolinecolor": "white"
           }
          },
          "shapedefaults": {
           "line": {
            "color": "#2a3f5f"
           }
          },
          "ternary": {
           "aaxis": {
            "gridcolor": "white",
            "linecolor": "white",
            "ticks": ""
           },
           "baxis": {
            "gridcolor": "white",
            "linecolor": "white",
            "ticks": ""
           },
           "bgcolor": "#E5ECF6",
           "caxis": {
            "gridcolor": "white",
            "linecolor": "white",
            "ticks": ""
           }
          },
          "title": {
           "x": 0.05
          },
          "xaxis": {
           "automargin": true,
           "gridcolor": "white",
           "linecolor": "white",
           "ticks": "",
           "title": {
            "standoff": 15
           },
           "zerolinecolor": "white",
           "zerolinewidth": 2
          },
          "yaxis": {
           "automargin": true,
           "gridcolor": "white",
           "linecolor": "white",
           "ticks": "",
           "title": {
            "standoff": 15
           },
           "zerolinecolor": "white",
           "zerolinewidth": 2
          }
         }
        },
        "title": {
         "font": {
          "size": 20
         },
         "text": "Comportamiento de las tasas de fecundidad en Sudamérica"
        },
        "xaxis": {
         "anchor": "y",
         "domain": [
          0,
          1
         ],
         "title": {
          "font": {
           "size": 14
          },
          "text": "Years"
         }
        },
        "yaxis": {
         "anchor": "x",
         "domain": [
          0,
          1
         ],
         "title": {
          "font": {
           "size": 14
          },
          "text": "Fertility Rate"
         }
        }
       }
      }
     },
     "metadata": {},
     "output_type": "display_data"
    }
   ],
   "source": [
    "# Crear el gráfico interactivo con Plotly Express\n",
    "fig = px.line(\n",
    "    data_filtrada, \n",
    "    x='Year', \n",
    "    y='Fertility Rate', \n",
    "    color='Country Name', \n",
    "    line_group='Country Name',\n",
    "    title='Comportamiento de las tasas de fecundidad en Sudamérica',\n",
    "    labels={'Year': 'Years', 'Fertility Rate': 'Fertility Rate'},\n",
    ")\n",
    "\n",
    "# Actualizar el layout para mejorar la presentación\n",
    "fig.update_layout(\n",
    "    title_font_size=20,\n",
    "    xaxis_title_font_size=14,\n",
    "    yaxis_title_font_size=14,\n",
    "    legend_title_text='País',\n",
    "    legend_title_font_size=14,\n",
    "    legend_itemclick='toggleothers',\n",
    "    legend_itemdoubleclick='toggle',\n",
    "    margin=dict(l=0, r=0, t=40, b=0)\n",
    ")\n",
    "\n",
    "# Mostramos el gráfico\n",
    "fig.show()\n",
    "\n",
    "# Guardamo el gráfico \n",
    "fig.write_html(f\"../images/Fecundidad_sudanerica.html\")"
   ]
  },
  {
   "cell_type": "markdown",
   "metadata": {},
   "source": [
    "#### Como se puede observar en el grafico, se evidencia una gran caida en la tasas de fecundidad en los paises sudamericanos. Ahora veremos como es el comportamiento de sudamérica en general "
   ]
  },
  {
   "cell_type": "code",
   "execution_count": 15,
   "metadata": {},
   "outputs": [
    {
     "data": {
      "text/html": [
       "<div>\n",
       "<style scoped>\n",
       "    .dataframe tbody tr th:only-of-type {\n",
       "        vertical-align: middle;\n",
       "    }\n",
       "\n",
       "    .dataframe tbody tr th {\n",
       "        vertical-align: top;\n",
       "    }\n",
       "\n",
       "    .dataframe thead th {\n",
       "        text-align: right;\n",
       "    }\n",
       "</style>\n",
       "<table border=\"1\" class=\"dataframe\">\n",
       "  <thead>\n",
       "    <tr style=\"text-align: right;\">\n",
       "      <th></th>\n",
       "      <th>Year</th>\n",
       "      <th>Fertility Rate</th>\n",
       "    </tr>\n",
       "  </thead>\n",
       "  <tbody>\n",
       "    <tr>\n",
       "      <th>0</th>\n",
       "      <td>1980</td>\n",
       "      <td>4.067000</td>\n",
       "    </tr>\n",
       "    <tr>\n",
       "      <th>1</th>\n",
       "      <td>1981</td>\n",
       "      <td>3.993333</td>\n",
       "    </tr>\n",
       "    <tr>\n",
       "      <th>2</th>\n",
       "      <td>1982</td>\n",
       "      <td>3.915750</td>\n",
       "    </tr>\n",
       "    <tr>\n",
       "      <th>3</th>\n",
       "      <td>1983</td>\n",
       "      <td>3.841000</td>\n",
       "    </tr>\n",
       "    <tr>\n",
       "      <th>4</th>\n",
       "      <td>1984</td>\n",
       "      <td>3.770750</td>\n",
       "    </tr>\n",
       "  </tbody>\n",
       "</table>\n",
       "</div>"
      ],
      "text/plain": [
       "   Year  Fertility Rate\n",
       "0  1980        4.067000\n",
       "1  1981        3.993333\n",
       "2  1982        3.915750\n",
       "3  1983        3.841000\n",
       "4  1984        3.770750"
      ]
     },
     "execution_count": 15,
     "metadata": {},
     "output_type": "execute_result"
    }
   ],
   "source": [
    "# Creamos un dataframe que tebga la tasa de fecundidad promedio por año\n",
    "\n",
    "sudamerica= data_filtrada.groupby('Year').agg({'Fertility Rate':'mean'}).reset_index()\n",
    "\n",
    "sudamerica.head()"
   ]
  },
  {
   "cell_type": "code",
   "execution_count": 16,
   "metadata": {},
   "outputs": [
    {
     "data": {
      "image/png": "[encoded data removed]",
      "text/plain": [
       "<Figure size 1000x400 with 1 Axes>"
      ]
     },
     "metadata": {},
     "output_type": "display_data"
    }
   ],
   "source": [
    "# Definimos el tamaño de la figura\n",
    "\n",
    "plt.figure(figsize=(10, 4))\n",
    "\n",
    "# Escogemos el tipo de grafico\n",
    "sns.lineplot(data= sudamerica, x= 'Year', y= 'Fertility Rate', color= 'black')\n",
    "\n",
    "# definimos las etiquetas\n",
    "plt.title('Comportamiento de la tasa de fecundidad en sudamérica', fontsize=16)\n",
    "plt.xlabel('Years')\n",
    "plt.ylabel('Fertility Rate')\n",
    "\n",
    "plt.show()"
   ]
  },
  {
   "cell_type": "markdown",
   "metadata": {},
   "source": [
    "#### Como podemos observar en a nivel general la tasa de en toda sudamérica tuvo una notable caida."
   ]
  },
  {
   "cell_type": "markdown",
   "metadata": {},
   "source": [
    "#### Ahora bien, uno de los objetivos de este proyecto es crear un modelo de series de tiempo que nos ayude a mostrar com se será el comportamiento futuro de estas tasas, por lo que separaremos cada país en una serie individual para el estudio."
   ]
  },
  {
   "cell_type": "code",
   "execution_count": 17,
   "metadata": {},
   "outputs": [],
   "source": [
    "## Creamos un ciclo for que nos guarde la informacion por pais\n",
    "\n",
    "for country in data_filtrada['Country Name'].unique():\n",
    "    data_country= data_filtrada[data_filtrada['Country Name']== country]\n",
    "    data_country= data_country[['Year','Country Name','Fertility Rate']]\n",
    "    \n",
    "    data_country.to_csv('../Data/Fertility_'+ country +'.csv')"
   ]
  },
  {
   "cell_type": "code",
   "execution_count": 18,
   "metadata": {},
   "outputs": [],
   "source": [
    "# Guaramos la informaicion de sudamerica en general\n",
    "sudamerica.to_csv('../Data/Fertility_Sudamerica.csv')"
   ]
  }
 ],
 "metadata": {
  "kernelspec": {
   "display_name": "Python 3",
   "language": "python",
   "name": "python3"
  },
  "language_info": {
   "codemirror_mode": {
    "name": "ipython",
    "version": 3
   },
   "file_extension": ".py",
   "mimetype": "text/x-python",
   "name": "python",
   "nbconvert_exporter": "python",
   "pygments_lexer": "ipython3",
   "version": "3.11.4"
  }
 },
 "nbformat": 4,
 "nbformat_minor": 2
}
