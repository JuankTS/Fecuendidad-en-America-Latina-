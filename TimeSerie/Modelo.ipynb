{
 "cells": [
  {
   "cell_type": "markdown",
   "metadata": {},
   "source": [
    "#### Este notebook esta dedicado al entrenamiendo de un modelo de serie de tiempo que nos ayude a predecir el comportamiendo de las tasas de fecundidad en Sudamérica."
   ]
  },
  {
   "cell_type": "code",
   "execution_count": 1,
   "metadata": {},
   "outputs": [],
   "source": [
    "# Importamos las librerias necesaria para cargar los datos \n",
    "import pandas as pd\n",
    "import numpy as np"
   ]
  },
  {
   "cell_type": "code",
   "execution_count": 22,
   "metadata": {},
   "outputs": [],
   "source": [
    "# Lista de países\n",
    "countries = ['Argentina', 'Bolivia', 'Brazil', 'Chile', 'Colombia', \n",
    "        'Ecuador', 'Guyana', 'Paraguay', 'Peru', 'Suriname', 'Uruguay', 'Venezuela, RB']\n",
    "\n",
    "# Crear DataFrames individuales para cada país usando globals()\n",
    "for country in countries:\n",
    "        file_path = f'../Data/Fertility_{country}.csv'\n",
    "        globals()[f\"{country}_data\"] = pd.read_csv(file_path, usecols=['Year', 'Country Name', 'Fertility Rate'])"
   ]
  },
  {
   "cell_type": "code",
   "execution_count": 23,
   "metadata": {},
   "outputs": [],
   "source": [
    "# Cargamos los datos de Sudamerica \n",
    "\n",
    "Sudamerica_data= pd.read_csv('../Data/Fertility_Sudamerica.csv')"
   ]
  },
  {
   "cell_type": "markdown",
   "metadata": {},
   "source": [
    "#### Ya teniendo los datos cargados, comenzamos con el proceso del modelo de serie de tiempo\n",
    "\n",
    "#### Para poder haccer un modelo de series de tiempo hay ciertas caracteristicas que son fundamentales y una de ellas es, la estacionaridad, esto quiere decir que es estable a lo largo del tiempo, es decir, cuando la media y varianza son constantes en el tiempo. \n",
    "\n",
    "#### Para saber que si una serie es estacionaria se puede aplicar el test de Dickey-Fuller, el cual podemos encontrar en la libreria de statsmodels, el cual nos dice, que si el p-value mos da menor que la significancia la serie es estacionaria, de lo contrario tiene problema de raiz unitaria."
   ]
  },
  {
   "cell_type": "code",
   "execution_count": 24,
   "metadata": {},
   "outputs": [
    {
     "name": "stdout",
     "output_type": "stream",
     "text": [
      "ADF Statistic: -2.622699239693846\n",
      "p-value: 0.08839595809490125\n",
      "Critical Values: {'1%': -3.60098336718852, '5%': -2.9351348158036012, '10%': -2.6059629803688282}\n"
     ]
    }
   ],
   "source": [
    "from statsmodels.tsa.stattools import adfuller\n",
    "\n",
    "# Realizar el test de Dickey-Fuller\n",
    "result = adfuller(Sudamerica_data['Fertility Rate'])\n",
    "\n",
    "# Extraer los resultados\n",
    "adf_statistic = result[0]\n",
    "p_value = result[1]\n",
    "critical_values = result[4]\n",
    "\n",
    "# Imprimir los resultados\n",
    "print('ADF Statistic:', adf_statistic)\n",
    "print('p-value:', p_value)\n",
    "print('Critical Values:', critical_values)"
   ]
  },
  {
   "cell_type": "markdown",
   "metadata": {},
   "source": [
    "#### Como vemos el p-value no es menor que 0.05, por lo que es posible necesiten más análisis o transformaciones para lograr la estacionalidad deseada en la serie temporal."
   ]
  },
  {
   "cell_type": "markdown",
   "metadata": {},
   "source": [
    "#### Pero es normal que estos resultados sean de esta forma ya que si vimos en el analisis (Ver [aquí](https://github.com/JuankTS/Fecuendidad-en-America-Latina-/blob/main/Analisis_data/Analisis.ipynb)) las series no muestran estas caracteristicas de media y varianza constante, para casos como este se usar otro tipos de modelos como, lo puede ser el modelo de suavizado exponencial, que es un metodo que lo que hace es darle más peso a las obervaciones más recientes y menos peso a las más antiguas ([Más información aquí](https://www.ibm.com/docs/es/spss-statistics/saas?topic=modeler-custom-exponential-smoothing-models)), esto para tener encuenta los valores de las opciones más recientes en el pronostico o predicción futura."
   ]
  }
 ],
 "metadata": {
  "kernelspec": {
   "display_name": "Python 3",
   "language": "python",
   "name": "python3"
  },
  "language_info": {
   "codemirror_mode": {
    "name": "ipython",
    "version": 3
   },
   "file_extension": ".py",
   "mimetype": "text/x-python",
   "name": "python",
   "nbconvert_exporter": "python",
   "pygments_lexer": "ipython3",
   "version": "3.11.4"
  }
 },
 "nbformat": 4,
 "nbformat_minor": 2
}
