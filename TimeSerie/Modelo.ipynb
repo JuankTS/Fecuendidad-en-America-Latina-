{
 "cells": [
  {
   "cell_type": "markdown",
   "metadata": {},
   "source": [
    "#### Este notebook esta dedicado al entrenamiendo de un modelo de serie de tiempo que nos ayude a predecir el comportamiendo de las tasas de fecundidad en Sudamérica."
   ]
  },
  {
   "cell_type": "code",
   "execution_count": 32,
   "metadata": {},
   "outputs": [],
   "source": [
    "# Importamos las librerias necesaria para cargar los datos \n",
    "import pandas as pd"
   ]
  },
  {
   "cell_type": "code",
   "execution_count": 33,
   "metadata": {},
   "outputs": [],
   "source": [
    "# Lista de países\n",
    "countries = ['Argentina', 'Bolivia', 'Brazil', 'Chile', 'Colombia', \n",
    "        'Ecuador', 'Guyana', 'Paraguay', 'Peru', 'Suriname', 'Uruguay', 'Venezuela']\n",
    "\n",
    "# Crear DataFrames individuales para cada país usando globals()\n",
    "for country in countries:\n",
    "        file_path = f'../Data/Fertility_{country}.csv'\n",
    "        globals()[f\"{country}_data\"] = pd.read_csv(file_path, usecols=['Year', 'Country Name', 'Fertility Rate'])"
   ]
  },
  {
   "cell_type": "code",
   "execution_count": 34,
   "metadata": {},
   "outputs": [],
   "source": [
    "# Cargamos los datos de Sudamerica \n",
    "\n",
    "Sudamerica_data= pd.read_csv('../Data/Fertility_Sudamerica.csv')"
   ]
  },
  {
   "cell_type": "markdown",
   "metadata": {},
   "source": [
    "#### Ya teniendo los datos cargados, comenzamos con el proceso del modelo de serie de tiempo\n",
    "\n",
    "#### Para poder haccer un modelo de series de tiempo hay ciertas caracteristicas que son fundamentales y una de ellas es, la estacionaridad, esto quiere decir que es estable a lo largo del tiempo, es decir, cuando la media y varianza son constantes en el tiempo. \n",
    "\n",
    "#### Para saber que si una serie es estacionaria se puede aplicar el test de Dickey-Fuller, el cual podemos encontrar en la libreria de statsmodels, el cual nos dice, que si el p-value mos da menor que la significancia la serie es estacionaria, de lo contrario tiene problema de raiz unitaria."
   ]
  },
  {
   "cell_type": "code",
   "execution_count": 35,
   "metadata": {},
   "outputs": [
    {
     "name": "stdout",
     "output_type": "stream",
     "text": [
      "ADF Statistic: -2.622699239693846\n",
      "p-value: 0.08839595809490125\n",
      "Critical Values: {'1%': -3.60098336718852, '5%': -2.9351348158036012, '10%': -2.6059629803688282}\n"
     ]
    }
   ],
   "source": [
    "from statsmodels.tsa.stattools import adfuller\n",
    "\n",
    "# Realizar el test de Dickey-Fuller\n",
    "result = adfuller(Sudamerica_data['Fertility Rate'])\n",
    "\n",
    "# Extraer los resultados\n",
    "adf_statistic = result[0]\n",
    "p_value = result[1]\n",
    "critical_values = result[4]\n",
    "\n",
    "# Imprimir los resultados\n",
    "print('ADF Statistic:', adf_statistic)\n",
    "print('p-value:', p_value)\n",
    "print('Critical Values:', critical_values)"
   ]
  },
  {
   "cell_type": "markdown",
   "metadata": {},
   "source": [
    "#### Como vemos el p-value no es menor que 0.05, por lo que es posible necesiten más análisis o transformaciones para lograr la estacionalidad deseada en la serie temporal."
   ]
  },
  {
   "cell_type": "markdown",
   "metadata": {},
   "source": [
    "#### Pero es normal que estos resultados sean de esta forma ya que si vimos en el analisis (Ver [aquí](https://github.com/JuankTS/Fecuendidad-en-America-Latina-/blob/main/Analisis_data/Analisis.ipynb)) las series no muestran estas caracteristicas de media y varianza constante, para casos como este se usar otro tipos de modelos como, lo puede ser el modelo de suavizado exponencial, que es un metodo que lo que hace es darle más peso a las obervaciones más recientes y menos peso a las más antiguas ([Más información aquí](https://www.ibm.com/docs/es/spss-statistics/saas?topic=modeler-custom-exponential-smoothing-models)), esto para tener encuenta los valores de las opciones más recientes en el pronostico o predicción futura."
   ]
  },
  {
   "cell_type": "code",
   "execution_count": 36,
   "metadata": {},
   "outputs": [],
   "source": [
    "# Usamos el modelo de Holt con tendencia aditiva ya que las tasas de fecundidad vienen con una tendencia a la baja\n",
    "# Importamos el modelo \n",
    "from statsmodels.tsa.holtwinters import ExponentialSmoothing\n",
    "\n",
    "# Iplementamos los datos al modelo y entremanamos el modelo\n",
    "model = ExponentialSmoothing(Sudamerica_data['Fertility Rate'], trend='add')\n",
    "fit = model.fit()\n",
    "\n",
    "# Hacemos un pronostico para los sigientes 6 años \n",
    "forecast = fit.forecast(steps=8)\n",
    "future_years = list(range(2023, 2031))"
   ]
  },
  {
   "cell_type": "code",
   "execution_count": 37,
   "metadata": {},
   "outputs": [
    {
     "data": {
      "application/vnd.plotly.v1+json": {
       "config": {
        "plotlyServerURL": "https://plot.ly"
       },
       "data": [
        {
         "line": {
          "color": "blue"
         },
         "mode": "lines",
         "name": "Tasa de Fecundidad",
         "type": "scatter",
         "x": [
          1980,
          1981,
          1982,
          1983,
          1984,
          1985,
          1986,
          1987,
          1988,
          1989,
          1990,
          1991,
          1992,
          1993,
          1994,
          1995,
          1996,
          1997,
          1998,
          1999,
          2000,
          2001,
          2002,
          2003,
          2004,
          2005,
          2006,
          2007,
          2008,
          2009,
          2010,
          2011,
          2012,
          2013,
          2014,
          2015,
          2016,
          2017,
          2018,
          2019,
          2020,
          2021,
          2022
         ],
         "y": [
          4.067,
          3.9933333333333336,
          3.915750000000001,
          3.841,
          3.77075,
          3.704333333333333,
          3.639833333333333,
          3.5756666666666668,
          3.52425,
          3.469,
          3.4091666666666662,
          3.3556666666666666,
          3.2929166666666667,
          3.235583333333333,
          3.18175,
          3.122666666666667,
          3.0605833333333337,
          2.996083333333333,
          2.935416666666667,
          2.8785000000000003,
          2.8165,
          2.755333333333333,
          2.704416666666667,
          2.6485,
          2.607,
          2.572083333333333,
          2.5374166666666667,
          2.49975,
          2.4636666666666667,
          2.4346666666666668,
          2.4058333333333333,
          2.3786666666666667,
          2.3436666666666666,
          2.3152500000000003,
          2.29075,
          2.2665,
          2.2224166666666667,
          2.1800833333333336,
          2.136083333333333,
          2.098333333333333,
          2.0620833333333333,
          2.0445,
          2.0241666666666664
         ]
        },
        {
         "line": {
          "color": "red",
          "dash": "dash"
         },
         "mode": "lines+markers",
         "name": "Pronóstico Holt",
         "type": "scatter",
         "x": [
          2023,
          2024,
          2025,
          2026,
          2027,
          2028,
          2029,
          2030
         ],
         "y": [
          2.00355968986825,
          1.9829582070749252,
          1.9623567242816002,
          1.9417552414882753,
          1.9211537586949503,
          1.9005522759016253,
          1.8799507931083004,
          1.8593493103149754
         ]
        }
       ],
       "layout": {
        "legend": {
         "title": {
          "text": "Series"
         }
        },
        "template": {
         "data": {
          "bar": [
           {
            "error_x": {
             "color": "#2a3f5f"
            },
            "error_y": {
             "color": "#2a3f5f"
            },
            "marker": {
             "line": {
              "color": "#E5ECF6",
              "width": 0.5
             },
             "pattern": {
              "fillmode": "overlay",
              "size": 10,
              "solidity": 0.2
             }
            },
            "type": "bar"
           }
          ],
          "barpolar": [
           {
            "marker": {
             "line": {
              "color": "#E5ECF6",
              "width": 0.5
             },
             "pattern": {
              "fillmode": "overlay",
              "size": 10,
              "solidity": 0.2
             }
            },
            "type": "barpolar"
           }
          ],
          "carpet": [
           {
            "aaxis": {
             "endlinecolor": "#2a3f5f",
             "gridcolor": "white",
             "linecolor": "white",
             "minorgridcolor": "white",
             "startlinecolor": "#2a3f5f"
            },
            "baxis": {
             "endlinecolor": "#2a3f5f",
             "gridcolor": "white",
             "linecolor": "white",
             "minorgridcolor": "white",
             "startlinecolor": "#2a3f5f"
            },
            "type": "carpet"
           }
          ],
          "choropleth": [
           {
            "colorbar": {
             "outlinewidth": 0,
             "ticks": ""
            },
            "type": "choropleth"
           }
          ],
          "contour": [
           {
            "colorbar": {
             "outlinewidth": 0,
             "ticks": ""
            },
            "colorscale": [
             [
              0,
              "#0d0887"
             ],
             [
              0.1111111111111111,
              "#46039f"
             ],
             [
              0.2222222222222222,
              "#7201a8"
             ],
             [
              0.3333333333333333,
              "#9c179e"
             ],
             [
              0.4444444444444444,
              "#bd3786"
             ],
             [
              0.5555555555555556,
              "#d8576b"
             ],
             [
              0.6666666666666666,
              "#ed7953"
             ],
             [
              0.7777777777777778,
              "#fb9f3a"
             ],
             [
              0.8888888888888888,
              "#fdca26"
             ],
             [
              1,
              "#f0f921"
             ]
            ],
            "type": "contour"
           }
          ],
          "contourcarpet": [
           {
            "colorbar": {
             "outlinewidth": 0,
             "ticks": ""
            },
            "type": "contourcarpet"
           }
          ],
          "heatmap": [
           {
            "colorbar": {
             "outlinewidth": 0,
             "ticks": ""
            },
            "colorscale": [
             [
              0,
              "#0d0887"
             ],
             [
              0.1111111111111111,
              "#46039f"
             ],
             [
              0.2222222222222222,
              "#7201a8"
             ],
             [
              0.3333333333333333,
              "#9c179e"
             ],
             [
              0.4444444444444444,
              "#bd3786"
             ],
             [
              0.5555555555555556,
              "#d8576b"
             ],
             [
              0.6666666666666666,
              "#ed7953"
             ],
             [
              0.7777777777777778,
              "#fb9f3a"
             ],
             [
              0.8888888888888888,
              "#fdca26"
             ],
             [
              1,
              "#f0f921"
             ]
            ],
            "type": "heatmap"
           }
          ],
          "heatmapgl": [
           {
            "colorbar": {
             "outlinewidth": 0,
             "ticks": ""
            },
            "colorscale": [
             [
              0,
              "#0d0887"
             ],
             [
              0.1111111111111111,
              "#46039f"
             ],
             [
              0.2222222222222222,
              "#7201a8"
             ],
             [
              0.3333333333333333,
              "#9c179e"
             ],
             [
              0.4444444444444444,
              "#bd3786"
             ],
             [
              0.5555555555555556,
              "#d8576b"
             ],
             [
              0.6666666666666666,
              "#ed7953"
             ],
             [
              0.7777777777777778,
              "#fb9f3a"
             ],
             [
              0.8888888888888888,
              "#fdca26"
             ],
             [
              1,
              "#f0f921"
             ]
            ],
            "type": "heatmapgl"
           }
          ],
          "histogram": [
           {
            "marker": {
             "pattern": {
              "fillmode": "overlay",
              "size": 10,
              "solidity": 0.2
             }
            },
            "type": "histogram"
           }
          ],
          "histogram2d": [
           {
            "colorbar": {
             "outlinewidth": 0,
             "ticks": ""
            },
            "colorscale": [
             [
              0,
              "#0d0887"
             ],
             [
              0.1111111111111111,
              "#46039f"
             ],
             [
              0.2222222222222222,
              "#7201a8"
             ],
             [
              0.3333333333333333,
              "#9c179e"
             ],
             [
              0.4444444444444444,
              "#bd3786"
             ],
             [
              0.5555555555555556,
              "#d8576b"
             ],
             [
              0.6666666666666666,
              "#ed7953"
             ],
             [
              0.7777777777777778,
              "#fb9f3a"
             ],
             [
              0.8888888888888888,
              "#fdca26"
             ],
             [
              1,
              "#f0f921"
             ]
            ],
            "type": "histogram2d"
           }
          ],
          "histogram2dcontour": [
           {
            "colorbar": {
             "outlinewidth": 0,
             "ticks": ""
            },
            "colorscale": [
             [
              0,
              "#0d0887"
             ],
             [
              0.1111111111111111,
              "#46039f"
             ],
             [
              0.2222222222222222,
              "#7201a8"
             ],
             [
              0.3333333333333333,
              "#9c179e"
             ],
             [
              0.4444444444444444,
              "#bd3786"
             ],
             [
              0.5555555555555556,
              "#d8576b"
             ],
             [
              0.6666666666666666,
              "#ed7953"
             ],
             [
              0.7777777777777778,
              "#fb9f3a"
             ],
             [
              0.8888888888888888,
              "#fdca26"
             ],
             [
              1,
              "#f0f921"
             ]
            ],
            "type": "histogram2dcontour"
           }
          ],
          "mesh3d": [
           {
            "colorbar": {
             "outlinewidth": 0,
             "ticks": ""
            },
            "type": "mesh3d"
           }
          ],
          "parcoords": [
           {
            "line": {
             "colorbar": {
              "outlinewidth": 0,
              "ticks": ""
             }
            },
            "type": "parcoords"
           }
          ],
          "pie": [
           {
            "automargin": true,
            "type": "pie"
           }
          ],
          "scatter": [
           {
            "fillpattern": {
             "fillmode": "overlay",
             "size": 10,
             "solidity": 0.2
            },
            "type": "scatter"
           }
          ],
          "scatter3d": [
           {
            "line": {
             "colorbar": {
              "outlinewidth": 0,
              "ticks": ""
             }
            },
            "marker": {
             "colorbar": {
              "outlinewidth": 0,
              "ticks": ""
             }
            },
            "type": "scatter3d"
           }
          ],
          "scattercarpet": [
           {
            "marker": {
             "colorbar": {
              "outlinewidth": 0,
              "ticks": ""
             }
            },
            "type": "scattercarpet"
           }
          ],
          "scattergeo": [
           {
            "marker": {
             "colorbar": {
              "outlinewidth": 0,
              "ticks": ""
             }
            },
            "type": "scattergeo"
           }
          ],
          "scattergl": [
           {
            "marker": {
             "colorbar": {
              "outlinewidth": 0,
              "ticks": ""
             }
            },
            "type": "scattergl"
           }
          ],
          "scattermapbox": [
           {
            "marker": {
             "colorbar": {
              "outlinewidth": 0,
              "ticks": ""
             }
            },
            "type": "scattermapbox"
           }
          ],
          "scatterpolar": [
           {
            "marker": {
             "colorbar": {
              "outlinewidth": 0,
              "ticks": ""
             }
            },
            "type": "scatterpolar"
           }
          ],
          "scatterpolargl": [
           {
            "marker": {
             "colorbar": {
              "outlinewidth": 0,
              "ticks": ""
             }
            },
            "type": "scatterpolargl"
           }
          ],
          "scatterternary": [
           {
            "marker": {
             "colorbar": {
              "outlinewidth": 0,
              "ticks": ""
             }
            },
            "type": "scatterternary"
           }
          ],
          "surface": [
           {
            "colorbar": {
             "outlinewidth": 0,
             "ticks": ""
            },
            "colorscale": [
             [
              0,
              "#0d0887"
             ],
             [
              0.1111111111111111,
              "#46039f"
             ],
             [
              0.2222222222222222,
              "#7201a8"
             ],
             [
              0.3333333333333333,
              "#9c179e"
             ],
             [
              0.4444444444444444,
              "#bd3786"
             ],
             [
              0.5555555555555556,
              "#d8576b"
             ],
             [
              0.6666666666666666,
              "#ed7953"
             ],
             [
              0.7777777777777778,
              "#fb9f3a"
             ],
             [
              0.8888888888888888,
              "#fdca26"
             ],
             [
              1,
              "#f0f921"
             ]
            ],
            "type": "surface"
           }
          ],
          "table": [
           {
            "cells": {
             "fill": {
              "color": "#EBF0F8"
             },
             "line": {
              "color": "white"
             }
            },
            "header": {
             "fill": {
              "color": "#C8D4E3"
             },
             "line": {
              "color": "white"
             }
            },
            "type": "table"
           }
          ]
         },
         "layout": {
          "annotationdefaults": {
           "arrowcolor": "#2a3f5f",
           "arrowhead": 0,
           "arrowwidth": 1
          },
          "autotypenumbers": "strict",
          "coloraxis": {
           "colorbar": {
            "outlinewidth": 0,
            "ticks": ""
           }
          },
          "colorscale": {
           "diverging": [
            [
             0,
             "#8e0152"
            ],
            [
             0.1,
             "#c51b7d"
            ],
            [
             0.2,
             "#de77ae"
            ],
            [
             0.3,
             "#f1b6da"
            ],
            [
             0.4,
             "#fde0ef"
            ],
            [
             0.5,
             "#f7f7f7"
            ],
            [
             0.6,
             "#e6f5d0"
            ],
            [
             0.7,
             "#b8e186"
            ],
            [
             0.8,
             "#7fbc41"
            ],
            [
             0.9,
             "#4d9221"
            ],
            [
             1,
             "#276419"
            ]
           ],
           "sequential": [
            [
             0,
             "#0d0887"
            ],
            [
             0.1111111111111111,
             "#46039f"
            ],
            [
             0.2222222222222222,
             "#7201a8"
            ],
            [
             0.3333333333333333,
             "#9c179e"
            ],
            [
             0.4444444444444444,
             "#bd3786"
            ],
            [
             0.5555555555555556,
             "#d8576b"
            ],
            [
             0.6666666666666666,
             "#ed7953"
            ],
            [
             0.7777777777777778,
             "#fb9f3a"
            ],
            [
             0.8888888888888888,
             "#fdca26"
            ],
            [
             1,
             "#f0f921"
            ]
           ],
           "sequentialminus": [
            [
             0,
             "#0d0887"
            ],
            [
             0.1111111111111111,
             "#46039f"
            ],
            [
             0.2222222222222222,
             "#7201a8"
            ],
            [
             0.3333333333333333,
             "#9c179e"
            ],
            [
             0.4444444444444444,
             "#bd3786"
            ],
            [
             0.5555555555555556,
             "#d8576b"
            ],
            [
             0.6666666666666666,
             "#ed7953"
            ],
            [
             0.7777777777777778,
             "#fb9f3a"
            ],
            [
             0.8888888888888888,
             "#fdca26"
            ],
            [
             1,
             "#f0f921"
            ]
           ]
          },
          "colorway": [
           "#636efa",
           "#EF553B",
           "#00cc96",
           "#ab63fa",
           "#FFA15A",
           "#19d3f3",
           "#FF6692",
           "#B6E880",
           "#FF97FF",
           "#FECB52"
          ],
          "font": {
           "color": "#2a3f5f"
          },
          "geo": {
           "bgcolor": "white",
           "lakecolor": "white",
           "landcolor": "#E5ECF6",
           "showlakes": true,
           "showland": true,
           "subunitcolor": "white"
          },
          "hoverlabel": {
           "align": "left"
          },
          "hovermode": "closest",
          "mapbox": {
           "style": "light"
          },
          "paper_bgcolor": "white",
          "plot_bgcolor": "#E5ECF6",
          "polar": {
           "angularaxis": {
            "gridcolor": "white",
            "linecolor": "white",
            "ticks": ""
           },
           "bgcolor": "#E5ECF6",
           "radialaxis": {
            "gridcolor": "white",
            "linecolor": "white",
            "ticks": ""
           }
          },
          "scene": {
           "xaxis": {
            "backgroundcolor": "#E5ECF6",
            "gridcolor": "white",
            "gridwidth": 2,
            "linecolor": "white",
            "showbackground": true,
            "ticks": "",
            "zerolinecolor": "white"
           },
           "yaxis": {
            "backgroundcolor": "#E5ECF6",
            "gridcolor": "white",
            "gridwidth": 2,
            "linecolor": "white",
            "showbackground": true,
            "ticks": "",
            "zerolinecolor": "white"
           },
           "zaxis": {
            "backgroundcolor": "#E5ECF6",
            "gridcolor": "white",
            "gridwidth": 2,
            "linecolor": "white",
            "showbackground": true,
            "ticks": "",
            "zerolinecolor": "white"
           }
          },
          "shapedefaults": {
           "line": {
            "color": "#2a3f5f"
           }
          },
          "ternary": {
           "aaxis": {
            "gridcolor": "white",
            "linecolor": "white",
            "ticks": ""
           },
           "baxis": {
            "gridcolor": "white",
            "linecolor": "white",
            "ticks": ""
           },
           "bgcolor": "#E5ECF6",
           "caxis": {
            "gridcolor": "white",
            "linecolor": "white",
            "ticks": ""
           }
          },
          "title": {
           "x": 0.05
          },
          "xaxis": {
           "automargin": true,
           "gridcolor": "white",
           "linecolor": "white",
           "ticks": "",
           "title": {
            "standoff": 15
           },
           "zerolinecolor": "white",
           "zerolinewidth": 2
          },
          "yaxis": {
           "automargin": true,
           "gridcolor": "white",
           "linecolor": "white",
           "ticks": "",
           "title": {
            "standoff": 15
           },
           "zerolinecolor": "white",
           "zerolinewidth": 2
          }
         }
        },
        "title": {
         "text": "Pronóstico de Tasa de Fertilidad"
        },
        "xaxis": {
         "title": {
          "text": "Year"
         }
        },
        "yaxis": {
         "title": {
          "text": "Fertility Rate"
         }
        }
       }
      }
     },
     "metadata": {},
     "output_type": "display_data"
    }
   ],
   "source": [
    "# Importamos la librerias para el grafico \n",
    "import plotly.express as px\n",
    "import plotly.graph_objects as go\n",
    "\n",
    "# Crear la figura desde cero usando go.Figure\n",
    "fig = go.Figure()\n",
    "\n",
    "# Añadir los datos originales\n",
    "fig.add_trace(go.Scatter(x=Sudamerica_data['Year'], y=Sudamerica_data['Fertility Rate'],\n",
    "        mode='lines', name='Tasa de Fecundidad',\n",
    "        line=dict(color='blue')))\n",
    "    \n",
    "    # Añadir los datos pronosticados al gráfico\n",
    "fig.add_trace(go.Scatter(x=future_years, y=forecast,\n",
    "        mode='lines+markers', name='Pronóstico Holt',\n",
    "        line=dict(dash='dash', color='red')))\n",
    "    \n",
    "    # Añadir título y etiquetas\n",
    "fig.update_layout(\n",
    "        title=f'Pronóstico de Tasa de Fertilidad',\n",
    "        xaxis_title='Year',\n",
    "        yaxis_title='Fertility Rate',\n",
    "        legend_title_text='Series'\n",
    "    )\n",
    "\n",
    "# Mostrar el gráfico\n",
    "fig.show()\n",
    "\n",
    "# Exportar el gráfico como un archivo HTML\n",
    "fig.write_html(f\"../images/forecast_Sudamérica.html\")"
   ]
  },
  {
   "cell_type": "markdown",
   "metadata": {},
   "source": [
    "#### Una vez vemos como se comporta el modelo con los datos y vames que sus predicciones son adecuadas y coherentes, podemos hacerlas para cada pais de sudamérica, para examinar los pronosticos los pronosticos indiviuales de cada país."
   ]
  },
  {
   "cell_type": "code",
   "execution_count": 38,
   "metadata": {},
   "outputs": [],
   "source": [
    "## Creamos un diccionario con los datadrames para pasarlo por un ciclo for y usar el modelo \n",
    "dataframes_dict = {\n",
    "    'Argentina': Argentina_data,\n",
    "    'Bolivia': Bolivia_data,\n",
    "    'Brazil': Brazil_data,\n",
    "    'Chile': Chile_data,\n",
    "    'Colombia': Colombia_data,\n",
    "    'Ecuador': Ecuador_data,\n",
    "    'Guyana': Guyana_data,\n",
    "    'Paraguay': Paraguay_data,\n",
    "    'Peru': Peru_data,\n",
    "    'Uruguay_data': Uruguay_data,\n",
    "    'Venezuela': Venezuela_data\n",
    "}\n",
    "\n",
    "# Creamos un diccionario para almacenar los resultados de los pronósticos\n",
    "forecasts_dict = {}\n",
    "\n",
    "# Creamos el ciclo for para hacer los pronosticos por país \n",
    "for country, df in dataframes_dict.items():\n",
    "    model = ExponentialSmoothing(df['Fertility Rate'], trend='add')\n",
    "    fit = model.fit()\n",
    "    \n",
    "    # Hacemos un pronóstico para los siguientes 8 años\n",
    "    forecast = fit.forecast(steps=8)\n",
    "    future_years = list(range(2023, 2031))\n",
    "    \n",
    "    # Almacenamos el pronóstico en el diccionario de resultados\n",
    "    forecasts_dict[country] = forecast\n",
    "\n"
   ]
  },
  {
   "cell_type": "markdown",
   "metadata": {},
   "source": [
    "#### Ya teniendo los pronosticos por país, hacemos el mismo proceso dentro de un ciclo for, pero esta vez para hacer lo graficos de cada país con sus pronosticos."
   ]
  },
  {
   "cell_type": "code",
   "execution_count": 39,
   "metadata": {},
   "outputs": [],
   "source": [
    "# Creamor el ciclo for que itere sobre los diccionarios \n",
    "for country, df in dataframes_dict.items():\n",
    "        # Usamos el diccionario con los pronosticos \n",
    "        forecast = forecasts_dict[country]\n",
    "\n",
    "        # Crear la figura desde cero usando go.Figure\n",
    "        fig = go.Figure()\n",
    "\n",
    "        # Añadir los datos originales\n",
    "        fig.add_trace(go.Scatter(x=df['Year'], y=df['Fertility Rate'],\n",
    "                mode='lines', name='Tasa de Fecundidad',line=dict(color='blue')))\n",
    "\n",
    "        # Añadir los datos pronosticados al gráfico\n",
    "        fig.add_trace(go.Scatter(x=future_years, y=forecast,\n",
    "                mode='lines+markers', name='Pronóstico Holt',\n",
    "                line=dict(dash='dash', color='red')))\n",
    "        \n",
    "        # Añadir título y etiquetas\n",
    "        fig.update_layout(\n",
    "        title=f'Pronóstico de Tasa de Fertilidad para {country} usando Holt (Tendencia Aditiva)',\n",
    "        xaxis_title='Year',\n",
    "        yaxis_title='Fertility Rate',\n",
    "        legend_title_text='Series'\n",
    "        )\n",
    "\n",
    "        # Guardar el gráfico \n",
    "        fig.write_html(f\"../images/forecast_{country}.html\")"
   ]
  }
 ],
 "metadata": {
  "kernelspec": {
   "display_name": "Python 3",
   "language": "python",
   "name": "python3"
  },
  "language_info": {
   "codemirror_mode": {
    "name": "ipython",
    "version": 3
   },
   "file_extension": ".py",
   "mimetype": "text/x-python",
   "name": "python",
   "nbconvert_exporter": "python",
   "pygments_lexer": "ipython3",
   "version": "3.11.4"
  }
 },
 "nbformat": 4,
 "nbformat_minor": 2
}
